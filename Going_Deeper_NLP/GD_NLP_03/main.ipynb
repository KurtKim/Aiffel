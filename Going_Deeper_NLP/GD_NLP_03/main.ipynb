{
 "cells": [
  {
   "cell_type": "markdown",
   "id": "fe825a49",
   "metadata": {},
   "source": [
    "# 데이터 확인"
   ]
  },
  {
   "cell_type": "code",
   "execution_count": 1,
   "id": "31e71715",
   "metadata": {},
   "outputs": [
    {
     "name": "stdout",
     "output_type": "stream",
     "text": [
      "사운드 엔지니어 상우(유지태 분)는 치매에 걸린 할머니(백성희 분)와\n",
      " 젊은 시절 상처한 한 아버지(박인환 분), 고모(신신애 분)와 함께 살고 있다.\n",
      " 어느 겨울 그는 지방 방송국 라디오 PD 은수(이영애 분)를 만난다.\n",
      " 자연의 소리를 채집해 틀어주는 라디오 프로그램을 준비하는 은수는 상우와 녹음 여행을 떠난다.\n",
      " 자연스레 가까워지는 두 사람은 어느 날, 은수의 아파트에서 밤을 보낸다.\n",
      " 너무 쉽게 사랑에 빠진 두 사람... 상우는 주체할 수 없을 정도로 그녀에게 빨려든다.\n",
      " 그러나 겨울에 만난 두 사람의 관계는 봄을 지나 여름을 맞이하면서 삐걱거린다.\n",
      " 이혼 경험이 있는 은수는 상우에게 결혼할 생각이 없다며 부담스러운 표정을 내비친다.\n",
      " \"어떻게 사랑이 변하니?...\"라고 묻는 상우에게 은수는 그저 \"헤어져\" 라고 단호하게 말한다.\n",
      " 영원히 변할 것 같지 않던 사랑이 변하고, 그 사실을 받아들이지 못하는 상우는 어찌 할 바를 모른다.\n"
     ]
    }
   ],
   "source": [
    "import os\n",
    "\n",
    "with open(os.getenv('HOME')+'/aiffel/weat/synopsis.txt', 'r') as file:\n",
    "    for i in range(10):\n",
    "        print(file.readline(), end='')"
   ]
  },
  {
   "cell_type": "markdown",
   "id": "44ad5f33",
   "metadata": {},
   "source": [
    "# STEP 1. 형태소 분석기를 이용하여 품사가 명사인 경우 해당 단어를 추출하기"
   ]
  },
  {
   "cell_type": "code",
   "execution_count": 2,
   "id": "f7cb6187",
   "metadata": {},
   "outputs": [],
   "source": [
    "from konlpy.tag import Okt\n",
    "\n",
    "\n",
    "okt = Okt()\n",
    "tokenized = []\n",
    "\n",
    "with open(os.getenv('HOME')+'/aiffel/weat/synopsis.txt', 'r') as file:\n",
    "    while True:\n",
    "        line = file.readline()\n",
    "        if not line: break\n",
    "        words = okt.pos(line, stem=True, norm=True)      \n",
    "        res = []\n",
    "        for w in words:\n",
    "            if w[1] in [\"Noun\"]:      \n",
    "                res.append(w[0]) \n",
    "        tokenized.append(res)"
   ]
  },
  {
   "cell_type": "code",
   "execution_count": 3,
   "id": "dfff9544",
   "metadata": {},
   "outputs": [
    {
     "name": "stdout",
     "output_type": "stream",
     "text": [
      "71156\n"
     ]
    }
   ],
   "source": [
    "print(len(tokenized))"
   ]
  },
  {
   "cell_type": "code",
   "execution_count": 4,
   "id": "dbb6f30c",
   "metadata": {},
   "outputs": [
    {
     "data": {
      "text/plain": [
       "[['사운드', '엔지니어', '상우', '유지태', '분', '치매', '할머니', '백성희', '분'],\n",
       " ['시절', '상처', '아버지', '박인환', '분', '고모', '신신애', '분', '살'],\n",
       " ['겨울', '그', '지방', '방송국', '라디오', '은수', '이영애', '분', '를'],\n",
       " ['자연', '소리', '채집', '라디오', '프로그램', '준비', '은수', '상우', '녹음', '여행'],\n",
       " ['두', '사람', '날', '은수', '아파트', '밤'],\n",
       " ['사랑', '두', '사람', '상우', '주체', '수', '정도', '그녀'],\n",
       " ['겨울', '만난', '두', '사람', '관계', '봄', '지나', '여름', '맞이', '삐걱', '거', '린다'],\n",
       " ['이혼', '경험', '은수', '상우', '결혼', '생각', '표정', '내비'],\n",
       " ['사랑', '상우', '은수', '단호', '말'],\n",
       " ['것', '사랑', '그', '사실', '상우', '어찌']]"
      ]
     },
     "execution_count": 4,
     "metadata": {},
     "output_type": "execute_result"
    }
   ],
   "source": [
    "tokenized[:10]"
   ]
  },
  {
   "cell_type": "markdown",
   "id": "c1f263ed",
   "metadata": {},
   "source": [
    "# STEP 2. 추출된 결과로 embedding model 만들기"
   ]
  },
  {
   "cell_type": "code",
   "execution_count": 6,
   "id": "809f08da",
   "metadata": {},
   "outputs": [],
   "source": [
    "from gensim.models import Word2Vec\n",
    "\n",
    "model = Word2Vec(tokenized, vector_size=100, window=5, min_count=5, workers=4, sg=0)"
   ]
  },
  {
   "cell_type": "code",
   "execution_count": 8,
   "id": "b77a19da",
   "metadata": {},
   "outputs": [
    {
     "data": {
      "text/plain": [
       "[('기법', 0.9633674621582031),\n",
       " ('텍스트', 0.9627128839492798),\n",
       " ('내러티브', 0.9593825340270996),\n",
       " ('인상', 0.9518807530403137),\n",
       " ('요소', 0.9518207311630249),\n",
       " ('편집', 0.951572060585022),\n",
       " ('내레이션', 0.9515145421028137),\n",
       " ('대사', 0.9506202340126038),\n",
       " ('혼합', 0.9493817090988159),\n",
       " ('흑백', 0.948732316493988)]"
      ]
     },
     "execution_count": 8,
     "metadata": {},
     "output_type": "execute_result"
    }
   ],
   "source": [
    "model.wv.most_similar(\"사운드\")"
   ]
  },
  {
   "cell_type": "code",
   "execution_count": 9,
   "id": "3b608c24",
   "metadata": {},
   "outputs": [
    {
     "data": {
      "text/plain": [
       "[('유년', 0.8298842310905457),\n",
       " ('추억', 0.7894887924194336),\n",
       " ('회상', 0.7170544266700745),\n",
       " ('사춘기', 0.6901322603225708),\n",
       " ('안고', 0.6845101118087769),\n",
       " ('어머니', 0.6764124631881714),\n",
       " ('나이', 0.6757517457008362),\n",
       " ('현재', 0.6727810502052307),\n",
       " ('기억', 0.6706520915031433),\n",
       " ('학번', 0.6585559248924255)]"
      ]
     },
     "execution_count": 9,
     "metadata": {},
     "output_type": "execute_result"
    }
   ],
   "source": [
    "model.wv.most_similar(\"시절\")"
   ]
  },
  {
   "cell_type": "markdown",
   "id": "7eb20ce3",
   "metadata": {},
   "source": [
    "# STEP 3. target, attribute 단어 셋 만들기"
   ]
  },
  {
   "cell_type": "code",
   "execution_count": 10,
   "id": "565d7757",
   "metadata": {},
   "outputs": [],
   "source": [
    "import os\n",
    "from sklearn.feature_extraction.text import TfidfVectorizer\n",
    "import numpy as np\n",
    "from konlpy.tag import Okt\n",
    "\n",
    "\n",
    "def read_token(file_name):\n",
    "    okt = Okt()\n",
    "    result = []\n",
    "    with open(os.getenv('HOME') + '/aiffel/weat/' + file_name, 'r') as fread: \n",
    "        while True:\n",
    "            line = fread.readline() \n",
    "            if not line: break \n",
    "            tokenlist = okt.pos(line, stem=True, norm=True) \n",
    "            for word in tokenlist:\n",
    "                if word[1] in [\"Noun\"]:\n",
    "                    result.append((word[0])) \n",
    "    return ' '.join(result)"
   ]
  },
  {
   "cell_type": "code",
   "execution_count": 11,
   "id": "c27961a3",
   "metadata": {},
   "outputs": [],
   "source": [
    "art = read_token('synopsis_art.txt')\n",
    "gen = read_token('synopsis_gen.txt')"
   ]
  },
  {
   "cell_type": "code",
   "execution_count": 12,
   "id": "615e04b1",
   "metadata": {},
   "outputs": [
    {
     "data": {
      "text/plain": [
       "(620208, 3014815)"
      ]
     },
     "execution_count": 12,
     "metadata": {},
     "output_type": "execute_result"
    }
   ],
   "source": [
    "len(art), len(gen)"
   ]
  },
  {
   "cell_type": "code",
   "execution_count": 13,
   "id": "b5b8a1b6",
   "metadata": {},
   "outputs": [
    {
     "data": {
      "text/plain": [
       "(2, 41082)"
      ]
     },
     "execution_count": 13,
     "metadata": {},
     "output_type": "execute_result"
    }
   ],
   "source": [
    "vectorizer = TfidfVectorizer()\n",
    "X = vectorizer.fit_transform([art, gen])\n",
    "\n",
    "X.shape"
   ]
  },
  {
   "cell_type": "code",
   "execution_count": 14,
   "id": "062667a5",
   "metadata": {},
   "outputs": [],
   "source": [
    "m1 = X[0].tocoo()\n",
    "m2 = X[1].tocoo()\n",
    "\n",
    "w1 = [[i, j] for i, j in zip(m1.col, m1.data)]\n",
    "w2 = [[i, j] for i, j in zip(m2.col, m2.data)]\n",
    "\n",
    "w1.sort(key=lambda x: x[1], reverse=True)\n",
    "w2.sort(key=lambda x: x[1], reverse=True) "
   ]
  },
  {
   "cell_type": "code",
   "execution_count": 15,
   "id": "b0c1b8dc",
   "metadata": {},
   "outputs": [
    {
     "name": "stdout",
     "output_type": "stream",
     "text": [
      "예술영화를 대표하는 단어들:\n",
      "그녀, 자신, 시작, 위해, 사랑, 사람, "
     ]
    },
    {
     "name": "stderr",
     "output_type": "stream",
     "text": [
      "/opt/conda/lib/python3.9/site-packages/sklearn/utils/deprecation.py:87: FutureWarning: Function get_feature_names is deprecated; get_feature_names is deprecated in 1.0 and will be removed in 1.2. Please use get_feature_names_out instead.\n",
      "  warnings.warn(msg, category=FutureWarning)\n"
     ]
    },
    {
     "name": "stdout",
     "output_type": "stream",
     "text": [
      "영화, 친구, 남자, 가족, 이야기, 마을, 사건, 마음, 세상, 아버지, 아이, 엄마, 모든, 여자, 대한, 서로, 과연, 다시, 시간, 아들, 소녀, 아내, 다른, 사이, 영화제, 세계, 사실, 하나, 점점, 남편, 감독, 여행, 인생, 발견, 모두, 순간, 우리, 가장, 마지막, 생활, 아빠, 모습, 통해, 죽음, 기억, 비밀, 학교, 음악, 한편, 소년, 생각, 도시, 명의, 사고, 결혼, 전쟁, 때문, 위기, 이제, 최고, 이자, 과거, 일상, 경찰, 상황, 간다, 미국, 결심, 운명, 현실, 관계, 지금, 단편, 여인, 하루, 이름, 이후, 준비, 인간, 감정, 만난, 국제, 처음, 충격, 살인, 누구, 동안, 존재, 그린, 어머니, 연인, 계속, 동생, 작품, "
     ]
    }
   ],
   "source": [
    "print('예술영화를 대표하는 단어들:')\n",
    "for i in range(100):\n",
    "    print(vectorizer.get_feature_names()[w1[i][0]], end=', ')"
   ]
  },
  {
   "cell_type": "code",
   "execution_count": 16,
   "id": "f7b20035",
   "metadata": {},
   "outputs": [
    {
     "name": "stdout",
     "output_type": "stream",
     "text": [
      "일반영화를 대표하는 단어들:\n",
      "자신, 그녀, 영화제, 위해, 사람, 시작, 국제, 영화, 친구, 사랑, 남자, 이야기, 대한, 서울, 여자, 사건, 남편, 아이, 가족, 아버지, 다른, 마을, 시간, 엄마, 아들, 모든, 단편, 마음, 사실, 다시, 세계, 모습, 작품, 통해, 생각, 서로, 세상, 발견, 감독, 아내, 관계, 소녀, 사이, 하나, 우리, 애니메이션, 때문, 여성, 죽음, 과연, 점점, 인간, 생활, 한편, 결혼, 상황, 모두, 기억, 명의, 소년, 여행, 가장, 간다, 순간, 이제, 도시, 비밀, 학교, 과거, 가지, 이자, 경찰, 마지막, 미국, 동안, 전쟁, 주인공, 대해, 존재, 현실, 연출, 사고, 살인, 일상, 어머니, 계속, 사회, 인생, 다큐멘터리, 부문, 섹스, 최고, 바로, 동생, 의도, 하루, 위기, 계획, 정체, 한국, "
     ]
    }
   ],
   "source": [
    "print('일반영화를 대표하는 단어들:')\n",
    "for i in range(100):\n",
    "    print(vectorizer.get_feature_names()[w2[i][0]], end=', ')"
   ]
  },
  {
   "cell_type": "code",
   "execution_count": 17,
   "id": "e8056b83",
   "metadata": {},
   "outputs": [],
   "source": [
    "n = 15\n",
    "w1_, w2_ = [], []\n",
    "for i in range(100):\n",
    "    w1_.append(vectorizer.get_feature_names()[w1[i][0]])\n",
    "    w2_.append(vectorizer.get_feature_names()[w2[i][0]])"
   ]
  },
  {
   "cell_type": "code",
   "execution_count": 18,
   "id": "df02d34e",
   "metadata": {},
   "outputs": [
    {
     "data": {
      "text/plain": [
       "(100, 100)"
      ]
     },
     "execution_count": 18,
     "metadata": {},
     "output_type": "execute_result"
    }
   ],
   "source": [
    "len(w1_), len(w2_)"
   ]
  },
  {
   "cell_type": "code",
   "execution_count": 19,
   "id": "8cd8514d",
   "metadata": {},
   "outputs": [
    {
     "data": {
      "text/plain": [
       "['아빠',\n",
       " '음악',\n",
       " '결심',\n",
       " '운명',\n",
       " '지금',\n",
       " '여인',\n",
       " '이름',\n",
       " '이후',\n",
       " '준비',\n",
       " '감정',\n",
       " '만난',\n",
       " '처음',\n",
       " '충격',\n",
       " '누구',\n",
       " '그린']"
      ]
     },
     "execution_count": 19,
     "metadata": {},
     "output_type": "execute_result"
    }
   ],
   "source": [
    "target_art = []\n",
    "for i in range(100):\n",
    "    if (w1_[i] not in w2_) and (w1_[i] in model.wv): target_art.append(w1_[i])\n",
    "    if len(target_art) == n: break \n",
    "        \n",
    "target_art"
   ]
  },
  {
   "cell_type": "code",
   "execution_count": 20,
   "id": "6daf0441",
   "metadata": {},
   "outputs": [
    {
     "data": {
      "text/plain": [
       "['서울',\n",
       " '애니메이션',\n",
       " '여성',\n",
       " '가지',\n",
       " '주인공',\n",
       " '대해',\n",
       " '연출',\n",
       " '사회',\n",
       " '다큐멘터리',\n",
       " '부문',\n",
       " '섹스',\n",
       " '바로',\n",
       " '의도',\n",
       " '계획',\n",
       " '정체']"
      ]
     },
     "execution_count": 20,
     "metadata": {},
     "output_type": "execute_result"
    }
   ],
   "source": [
    "target_gen = []\n",
    "for i in range(100):\n",
    "    if (w2_[i] not in w1_) and (w2_[i] in model.wv): target_gen.append(w2_[i])\n",
    "    if len(target_gen) == n: break\n",
    "        \n",
    "target_gen"
   ]
  },
  {
   "cell_type": "code",
   "execution_count": 21,
   "id": "6bf338cf",
   "metadata": {},
   "outputs": [],
   "source": [
    "genre_txt = ['synopsis_SF.txt', 'synopsis_family.txt', 'synopsis_show.txt', 'synopsis_horror.txt', 'synopsis_etc.txt', \n",
    "             'synopsis_documentary.txt', 'synopsis_drama.txt', 'synopsis_romance.txt', 'synopsis_musical.txt', \n",
    "             'synopsis_mystery.txt', 'synopsis_crime.txt', 'synopsis_historical.txt', 'synopsis_western.txt', \n",
    "             'synopsis_adult.txt', 'synopsis_thriller.txt', 'synopsis_animation.txt', 'synopsis_action.txt', \n",
    "             'synopsis_adventure.txt', 'synopsis_war.txt', 'synopsis_comedy.txt', 'synopsis_fantasy.txt']\n",
    "genre_name = ['SF', '가족', '공연', '공포(호러)', '기타', '다큐멘터리', '드라마', '멜로로맨스', '뮤지컬', '미스터리', '범죄', '사극', '서부극(웨스턴)',\n",
    "         '성인물(에로)', '스릴러', '애니메이션', '액션', '어드벤처', '전쟁', '코미디', '판타지']"
   ]
  },
  {
   "cell_type": "code",
   "execution_count": 22,
   "id": "ab3a8de6",
   "metadata": {},
   "outputs": [],
   "source": [
    "genre = []\n",
    "for file_name in genre_txt:\n",
    "    genre.append(read_token(file_name))"
   ]
  },
  {
   "cell_type": "code",
   "execution_count": 23,
   "id": "1b5ba1b6",
   "metadata": {},
   "outputs": [
    {
     "data": {
      "text/plain": [
       "21"
      ]
     },
     "execution_count": 23,
     "metadata": {},
     "output_type": "execute_result"
    }
   ],
   "source": [
    "len(genre)"
   ]
  },
  {
   "cell_type": "code",
   "execution_count": 24,
   "id": "f0e3f2c0",
   "metadata": {},
   "outputs": [
    {
     "data": {
      "text/plain": [
       "(21, 42191)"
      ]
     },
     "execution_count": 24,
     "metadata": {},
     "output_type": "execute_result"
    }
   ],
   "source": [
    "vectorizer = TfidfVectorizer()\n",
    "X = vectorizer.fit_transform(genre)\n",
    "\n",
    "X.shape"
   ]
  },
  {
   "cell_type": "code",
   "execution_count": 25,
   "id": "6a866ab6",
   "metadata": {},
   "outputs": [
    {
     "name": "stdout",
     "output_type": "stream",
     "text": [
      "SF: 위해, 자신, 지구, 시작, 사람, 인류, 인간, 미래, 우주, 그녀, 로봇, 세계, 모든, 박사, 우주선, \n",
      "가족: 엄마, 아빠, 가족, 영화제, 자신, 위해, 친구, 아주르, 아버지, 시작, 그녀, 아들, 마을, 국제, 낙타, \n",
      "공연: 오페라, 사랑, 토스카, 실황, 올레, 자신, 카바, 그녀, 공연, 오텔로, 리골레토, 백작, 프레, 베르디, 위해, \n",
      "공포(호러): 시작, 위해, 사람, 자신, 친구, 그녀, 사건, 공포, 발견, 죽음, 마을, 가족, 악령, 남자, 좀비, \n",
      "기타: 영화제, 국제, 서울, 단편, 영화, 자신, 사람, 이야기, 그녀, 남자, 위해, 시작, 사랑, 뉴미디어, 페스티벌, \n",
      "다큐멘터리: 영화제, 영화, 다큐, 국제, 다큐멘터리, 사람, 이야기, 대한, 자신, 감독, 위해, 서울, 우리, 시작, 세계, \n",
      "드라마: 자신, 영화제, 그녀, 사람, 사랑, 영화, 위해, 시작, 국제, 남자, 친구, 이야기, 엄마, 여자, 아버지, \n",
      "멜로로맨스: 그녀, 사랑, 자신, 시작, 남편, 남자, 여자, 사람, 친구, 섹스, 위해, 마음, 결혼, 서로, 아내, \n",
      "뮤지컬: 뮤지컬, 사랑, 에스메랄다, 그녀, 음악, 충무로, 모차르트, 영화, 토스카, 자신, 니웨, 카바, 영화제, 바흐, 페뷔스, \n",
      "미스터리: 사건, 그녀, 시작, 자신, 위해, 사람, 발견, 사고, 진실, 죽음, 기억, 살인, 친구, 아내, 남자, \n",
      "범죄: 사건, 위해, 자신, 경찰, 시작, 그녀, 범죄, 조직, 살인, 사람, 마약, 형사, 남자, 모든, 살해, \n",
      "사극: 조선, 위해, 시작, 신기전, 사랑, 자신, 아가멤논, 황제, 그녀, 루안, 최고, 운명, 사람, 하선, 전쟁, \n",
      "서부극(웨스턴): 서부, 보안관, 위해, 벌린, 카우보이, 헨리, 마을, 자신, 아이, 시작, 무법자, 프린트, 마적, 현상금, 분노, \n",
      "성인물(에로): 그녀, 남편, 마사지, 자신, 섹스, 관계, 영화, 정사, 남자, 위해, 시작, 여자, 유부녀, 마음, 사랑, \n",
      "스릴러: 자신, 그녀, 사건, 시작, 위해, 사람, 살인, 남자, 발견, 아내, 경찰, 친구, 모든, 사실, 살해, \n",
      "애니메이션: 애니메이션, 국제, 영화제, 친구, 인디애니페스트, 위해, 자신, 시작, 사람, 페스티벌, 서울, 이야기, 아이, 마을, 소녀, \n",
      "액션: 위해, 자신, 시작, 조직, 사건, 사람, 그녀, 경찰, 전쟁, 모든, 목숨, 사실, 친구, 가족, 요원, \n",
      "어드벤처: 위해, 자신, 시작, 친구, 마을, 아버지, 영화, 아이, 사람, 여행, 세계, 앤트, 세상, 가족, 모험, \n",
      "전쟁: 전쟁, 독일군, 전투, 위해, 작전, 시작, 부대, 윈터스, 독일, 연합군, 미군, 임무, 자신, 사람, 나치, \n",
      "코미디: 그녀, 자신, 시작, 위해, 사랑, 사람, 친구, 영화, 남자, 여자, 영화제, 가족, 과연, 마을, 사건, \n",
      "판타지: 자신, 그녀, 시작, 위해, 사람, 사랑, 요괴, 영화제, 이야기, 영화, 소녀, 남자, 인간, 세상, 마을, \n"
     ]
    }
   ],
   "source": [
    "m = [X[i].tocoo() for i in range(X.shape[0])]\n",
    "\n",
    "w = [[[i, j] for i, j in zip(mm.col, mm.data)] for mm in m]\n",
    "\n",
    "for i in range(len(w)):\n",
    "    w[i].sort(key=lambda x: x[1], reverse=True)\n",
    "attributes = []\n",
    "for i in range(len(w)):\n",
    "    print(genre_name[i], end=': ')\n",
    "    attr = []\n",
    "    j = 0\n",
    "    while (len(attr) < 15):\n",
    "        if vectorizer.get_feature_names()[w[i][j][0]] in model.wv:\n",
    "            attr.append(vectorizer.get_feature_names()[w[i][j][0]])\n",
    "            print(vectorizer.get_feature_names()[w[i][j][0]], end=', ')\n",
    "        j += 1\n",
    "    attributes.append(attr)\n",
    "    print()"
   ]
  },
  {
   "cell_type": "markdown",
   "id": "dfd7ae5f",
   "metadata": {},
   "source": [
    "# STEP 4. WEAT score 계산과 시각화"
   ]
  },
  {
   "cell_type": "code",
   "execution_count": 41,
   "id": "01575ffb",
   "metadata": {},
   "outputs": [],
   "source": [
    "import numpy as np\n",
    "from numpy import dot\n",
    "from numpy.linalg import norm\n",
    "\n",
    "def cos_sim(i, j):\n",
    "    return dot(i, j.T)/(norm(i)*norm(j))\n",
    "\n",
    "def s(w, A, B):\n",
    "    c_a = cos_sim(w, A)\n",
    "    c_b = cos_sim(w, B)\n",
    "    mean_A = np.mean(c_a, axis=-1)\n",
    "    mean_B = np.mean(c_b, axis=-1)\n",
    "    return mean_A - mean_B"
   ]
  },
  {
   "cell_type": "code",
   "execution_count": 42,
   "id": "2a0160b5",
   "metadata": {},
   "outputs": [],
   "source": [
    "def weat_score(X, Y, A, B):\n",
    "    \n",
    "    s_X = s(X, A, B)\n",
    "    s_Y = s(Y, A, B)\n",
    "\n",
    "    mean_X = np.mean(s_X)\n",
    "    mean_Y = np.mean(s_Y)\n",
    "    \n",
    "    std_dev = np.std(np.concatenate([s_X, s_Y], axis=0))\n",
    "    \n",
    "    return  (mean_X - mean_Y) / std_dev"
   ]
  },
  {
   "cell_type": "code",
   "execution_count": 43,
   "id": "67e5fe0e",
   "metadata": {},
   "outputs": [],
   "source": [
    "matrix = [[0 for _ in range(len(genre_name))] for _ in range(len(genre_name))]"
   ]
  },
  {
   "cell_type": "code",
   "execution_count": 44,
   "id": "95d5549a",
   "metadata": {},
   "outputs": [],
   "source": [
    "X = np.array([model.wv[word] for word in target_art])\n",
    "Y = np.array([model.wv[word] for word in target_gen])\n",
    "\n",
    "for i in range(len(genre_name)-1):\n",
    "    for j in range(i+1, len(genre_name)):\n",
    "        A = np.array([model.wv[word] for word in attributes[i]])\n",
    "        B = np.array([model.wv[word] for word in attributes[j]])\n",
    "        matrix[i][j] = weat_score(X, Y, A, B)"
   ]
  },
  {
   "cell_type": "code",
   "execution_count": 45,
   "id": "2c968a06",
   "metadata": {
    "scrolled": false
   },
   "outputs": [
    {
     "name": "stdout",
     "output_type": "stream",
     "text": [
      "SF 가족 -0.4762627\n",
      "SF 공연 -0.34787375\n",
      "SF 공포(호러) -0.6294131\n",
      "SF 기타 0.37308314\n",
      "SF 다큐멘터리 0.5919088\n",
      "SF 드라마 -0.36406654\n",
      "SF 멜로로맨스 -0.7806728\n",
      "SF 뮤지컬 0.31645793\n",
      "SF 미스터리 -0.66681683\n",
      "SF 범죄 -0.2234113\n",
      "SF 사극 -0.84156233\n",
      "SF 서부극(웨스턴) -0.48319724\n",
      "SF 성인물(에로) -0.54535156\n",
      "SF 스릴러 -0.5125577\n",
      "SF 애니메이션 0.404968\n",
      "SF 액션 -0.42666173\n",
      "SF 어드벤처 -0.7355045\n",
      "SF 전쟁 0.27006558\n",
      "SF 코미디 -0.41146478\n",
      "SF 판타지 -0.17317797\n",
      "가족 공연 0.17127143\n",
      "가족 공포(호러) -0.14508808\n",
      "가족 기타 0.76840717\n",
      "가족 다큐멘터리 0.8264643\n",
      "가족 드라마 0.17910516\n",
      "가족 멜로로맨스 -0.6293816\n",
      "가족 뮤지컬 0.6635698\n",
      "가족 미스터리 -0.31064323\n",
      "가족 범죄 0.18931223\n",
      "가족 사극 -0.16679595\n",
      "가족 서부극(웨스턴) 0.22445752\n",
      "가족 성인물(에로) -0.31042084\n",
      "가족 스릴러 -0.14942813\n",
      "가족 애니메이션 0.8909356\n",
      "가족 액션 0.110049404\n",
      "가족 어드벤처 -0.027732288\n",
      "가족 전쟁 0.64383894\n",
      "가족 코미디 0.17916702\n",
      "가족 판타지 0.41337967\n",
      "공연 공포(호러) -0.22392853\n",
      "공연 기타 0.9765514\n",
      "공연 다큐멘터리 0.9329055\n",
      "공연 드라마 -0.027340429\n",
      "공연 멜로로맨스 -0.7071495\n",
      "공연 뮤지컬 0.8656878\n",
      "공연 미스터리 -0.3511689\n",
      "공연 범죄 0.06871076\n",
      "공연 사극 -0.45347285\n",
      "공연 서부극(웨스턴) -0.03683018\n",
      "공연 성인물(에로) -0.4661334\n",
      "공연 스릴러 -0.21910639\n",
      "공연 애니메이션 0.94938403\n",
      "공연 액션 -0.021239376\n",
      "공연 어드벤처 -0.19790876\n",
      "공연 전쟁 0.6008749\n",
      "공연 코미디 -0.005852269\n",
      "공연 판타지 0.3146594\n",
      "공포(호러) 기타 0.642833\n",
      "공포(호러) 다큐멘터리 0.7334489\n",
      "공포(호러) 드라마 0.26760164\n",
      "공포(호러) 멜로로맨스 -0.6460106\n",
      "공포(호러) 뮤지컬 0.58323014\n",
      "공포(호러) 미스터리 -0.621068\n",
      "공포(호러) 범죄 0.620739\n",
      "공포(호러) 사극 0.011384071\n",
      "공포(호러) 서부극(웨스턴) 0.36140937\n",
      "공포(호러) 성인물(에로) -0.2267645\n",
      "공포(호러) 스릴러 -0.07930316\n",
      "공포(호러) 애니메이션 0.6685818\n",
      "공포(호러) 액션 0.5275834\n",
      "공포(호러) 어드벤처 0.16281044\n",
      "공포(호러) 전쟁 0.6484848\n",
      "공포(호러) 코미디 0.40160567\n",
      "공포(호러) 판타지 0.5031242\n",
      "기타 다큐멘터리 0.53117967\n",
      "기타 드라마 -0.9268579\n",
      "기타 멜로로맨스 -0.91539806\n",
      "기타 뮤지컬 -0.2375286\n",
      "기타 미스터리 -0.6704031\n",
      "기타 범죄 -0.39994782\n",
      "기타 사극 -0.87450856\n",
      "기타 서부극(웨스턴) -0.6543638\n",
      "기타 성인물(에로) -0.8302301\n",
      "기타 스릴러 -0.5787649\n",
      "기타 애니메이션 -0.01739225\n",
      "기타 액션 -0.49059334\n",
      "기타 어드벤처 -0.8202282\n",
      "기타 전쟁 -0.23073088\n",
      "기타 코미디 -0.75291383\n",
      "기타 판타지 -0.72568196\n",
      "다큐멘터리 드라마 -0.923078\n",
      "다큐멘터리 멜로로맨스 -0.90611774\n",
      "다큐멘터리 뮤지컬 -0.7766094\n",
      "다큐멘터리 미스터리 -0.7461758\n",
      "다큐멘터리 범죄 -0.50320375\n",
      "다큐멘터리 사극 -0.9252986\n",
      "다큐멘터리 서부극(웨스턴) -0.7397453\n",
      "다큐멘터리 성인물(에로) -0.83061236\n",
      "다큐멘터리 스릴러 -0.6537498\n",
      "다큐멘터리 애니메이션 -0.46491536\n",
      "다큐멘터리 액션 -0.60143214\n",
      "다큐멘터리 어드벤처 -0.9409186\n",
      "다큐멘터리 전쟁 -0.42179665\n",
      "다큐멘터리 코미디 -0.81880736\n",
      "다큐멘터리 판타지 -0.89621615\n",
      "드라마 멜로로맨스 -0.8414528\n",
      "드라마 뮤지컬 0.8009585\n",
      "드라마 미스터리 -0.40851745\n",
      "드라마 범죄 0.085493684\n",
      "드라마 사극 -0.4047605\n",
      "드라마 서부극(웨스턴) -0.019588858\n",
      "드라마 성인물(에로) -0.55967\n",
      "드라마 스릴러 -0.24270788\n",
      "드라마 애니메이션 0.9207226\n",
      "드라마 액션 -0.010055263\n",
      "드라마 어드벤처 -0.24452801\n",
      "드라마 전쟁 0.49434826\n",
      "드라마 코미디 0.03075662\n",
      "드라마 판타지 0.5504351\n",
      "멜로로맨스 뮤지컬 0.8588052\n",
      "멜로로맨스 미스터리 0.45074987\n",
      "멜로로맨스 범죄 0.85655886\n",
      "멜로로맨스 사극 0.62243056\n",
      "멜로로맨스 서부극(웨스턴) 0.7416309\n",
      "멜로로맨스 성인물(에로) 0.8657751\n",
      "멜로로맨스 스릴러 0.6556081\n",
      "멜로로맨스 애니메이션 0.89553475\n",
      "멜로로맨스 액션 0.7637362\n",
      "멜로로맨스 어드벤처 0.6199765\n",
      "멜로로맨스 전쟁 0.8148678\n",
      "멜로로맨스 코미디 0.92367\n",
      "멜로로맨스 판타지 0.84146094\n",
      "뮤지컬 미스터리 -0.6226077\n",
      "뮤지컬 범죄 -0.3465864\n",
      "뮤지컬 사극 -0.8039191\n",
      "뮤지컬 서부극(웨스턴) -0.5619386\n",
      "뮤지컬 성인물(에로) -0.77225417\n",
      "뮤지컬 스릴러 -0.52638894\n",
      "뮤지컬 애니메이션 0.1271677\n",
      "뮤지컬 액션 -0.43598086\n",
      "뮤지컬 어드벤처 -0.74468994\n",
      "뮤지컬 전쟁 -0.1582106\n",
      "뮤지컬 코미디 -0.65567297\n",
      "뮤지컬 판타지 -0.63331634\n",
      "미스터리 범죄 1.0137422\n",
      "미스터리 사극 0.23636985\n",
      "미스터리 서부극(웨스턴) 0.50339967\n",
      "미스터리 성인물(에로) -0.02235396\n",
      "미스터리 스릴러 0.7742644\n",
      "미스터리 애니메이션 0.6838444\n",
      "미스터리 액션 0.79782516\n",
      "미스터리 어드벤처 0.33614597\n",
      "미스터리 전쟁 0.6868991\n",
      "미스터리 코미디 0.54009336\n",
      "미스터리 판타지 0.5705672\n",
      "범죄 사극 -0.3693419\n",
      "범죄 서부극(웨스턴) -0.14682971\n",
      "범죄 성인물(에로) -0.4807175\n",
      "범죄 스릴러 -0.972961\n",
      "범죄 애니메이션 0.40757823\n",
      "범죄 액션 -0.30092508\n",
      "범죄 어드벤처 -0.21291125\n",
      "범죄 전쟁 0.39303863\n",
      "범죄 코미디 -0.09991577\n",
      "범죄 판타지 0.09846446\n",
      "사극 서부극(웨스턴) 0.43238875\n",
      "사극 성인물(에로) -0.25504616\n",
      "사극 스릴러 -0.0422473\n",
      "사극 애니메이션 0.88199365\n",
      "사극 액션 0.31548136\n",
      "사극 어드벤처 0.21954395\n",
      "사극 전쟁 0.938484\n",
      "사극 코미디 0.55765676\n",
      "사극 판타지 0.7154094\n",
      "서부극(웨스턴) 성인물(에로) -0.4018562\n",
      "서부극(웨스턴) 스릴러 -0.31515154\n",
      "서부극(웨스턴) 애니메이션 0.7241416\n",
      "서부극(웨스턴) 액션 0.0044961814\n",
      "서부극(웨스턴) 어드벤처 -0.24628976\n",
      "서부극(웨스턴) 전쟁 0.7340764\n",
      "서부극(웨스턴) 코미디 0.04350521\n",
      "서부극(웨스턴) 판타지 0.31342524\n",
      "성인물(에로) 스릴러 0.19872704\n",
      "성인물(에로) 애니메이션 0.7778062\n",
      "성인물(에로) 액션 0.38568965\n",
      "성인물(에로) 어드벤처 0.3048491\n",
      "성인물(에로) 전쟁 0.61351836\n",
      "성인물(에로) 코미디 0.58335775\n",
      "성인물(에로) 판타지 0.6218925\n",
      "스릴러 애니메이션 0.5923448\n",
      "스릴러 액션 0.54871213\n",
      "스릴러 어드벤처 0.14506467\n",
      "스릴러 전쟁 0.59506667\n",
      "스릴러 코미디 0.3260631\n",
      "스릴러 판타지 0.40361327\n",
      "애니메이션 액션 -0.5125032\n",
      "애니메이션 어드벤처 -0.90984875\n",
      "애니메이션 전쟁 -0.24819428\n",
      "애니메이션 코미디 -0.7564562\n",
      "애니메이션 판타지 -0.7328494\n",
      "액션 어드벤처 -0.14358176\n",
      "액션 전쟁 0.5619585\n",
      "액션 코미디 0.026040167\n",
      "액션 판타지 0.21896687\n",
      "어드벤처 전쟁 0.70980376\n",
      "어드벤처 코미디 0.30637944\n",
      "어드벤처 판타지 0.7318368\n",
      "전쟁 코미디 -0.5297544\n",
      "전쟁 판타지 -0.31323576\n",
      "코미디 판타지 0.5030995\n"
     ]
    }
   ],
   "source": [
    "for i in range(len(genre_name)-1):\n",
    "    for j in range(i+1, len(genre_name)):\n",
    "        print(genre_name[i], genre_name[j],matrix[i][j])"
   ]
  },
  {
   "cell_type": "code",
   "execution_count": 46,
   "id": "b6c63cb6",
   "metadata": {},
   "outputs": [
    {
     "data": {
      "text/plain": [
       "<AxesSubplot:>"
      ]
     },
     "execution_count": 46,
     "metadata": {},
     "output_type": "execute_result"
    },
    {
     "data": {
      "image/png": "[encoded data removed]",
      "text/plain": [
       "<Figure size 432x288 with 2 Axes>"
      ]
     },
     "metadata": {},
     "output_type": "display_data"
    }
   ],
   "source": [
    "import numpy as np; \n",
    "import seaborn as sns; \n",
    "\n",
    "np.random.seed(0)\n",
    "\n",
    "sns.set(font='NanumGothic')\n",
    "\n",
    "plt.rcParams['axes.unicode_minus'] = False\n",
    "\n",
    "ax = sns.heatmap(matrix, xticklabels=genre_name, yticklabels=genre_name, annot=True,  cmap='RdYlGn_r')\n",
    "ax"
   ]
  }
 ],
 "metadata": {
  "kernelspec": {
   "display_name": "Python 3 (ipykernel)",
   "language": "python",
   "name": "python3"
  },
  "language_info": {
   "codemirror_mode": {
    "name": "ipython",
    "version": 3
   },
   "file_extension": ".py",
   "mimetype": "text/x-python",
   "name": "python",
   "nbconvert_exporter": "python",
   "pygments_lexer": "ipython3",
   "version": "3.9.7"
  }
 },
 "nbformat": 4,
 "nbformat_minor": 5
}
