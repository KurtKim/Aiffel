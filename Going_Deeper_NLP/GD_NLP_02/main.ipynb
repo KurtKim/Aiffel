{
 "cells": [
  {
   "cell_type": "markdown",
   "id": "40aa5e15",
   "metadata": {},
   "source": [
    "` 프로젝트 수행자 : 김경훈 `"
   ]
  },
  {
   "cell_type": "markdown",
   "id": "3207f951",
   "metadata": {},
   "source": [
    "# 1. 데이터 불러오기"
   ]
  },
  {
   "cell_type": "code",
   "execution_count": 1,
   "id": "6fba0719",
   "metadata": {},
   "outputs": [],
   "source": [
    "from tensorflow.keras.datasets import reuters\n",
    "\n",
    "def get_data(num_words=None):\n",
    "    (x_train, y_train), (x_test, y_test) = reuters.load_data(num_words=num_words, test_split=0.2)\n",
    "    \n",
    "    return x_train, y_train, x_test, y_test"
   ]
  },
  {
   "cell_type": "markdown",
   "id": "8dedc5cc",
   "metadata": {},
   "source": [
    "# 2. 전처리"
   ]
  },
  {
   "cell_type": "code",
   "execution_count": 2,
   "id": "b985f21e",
   "metadata": {},
   "outputs": [],
   "source": [
    "word_index = reuters.get_word_index(path=\"reuters_word_index.json\")\n",
    "\n",
    "index_to_word = { index + 3 : word for word, index in word_index.items() }\n",
    "for index, token in enumerate((\"<pad>\", \"<sos>\", \"<unk>\")):\n",
    "    index_to_word[index] = token"
   ]
  },
  {
   "cell_type": "code",
   "execution_count": 3,
   "id": "e0056b72",
   "metadata": {},
   "outputs": [],
   "source": [
    "from sklearn.feature_extraction.text import CountVectorizer\n",
    "from sklearn.feature_extraction.text import TfidfTransformer\n",
    "\n",
    "def decode_data(data):\n",
    "    result = []\n",
    "    for i in range(len(data)):\n",
    "        t = ' '.join([index_to_word[index] for index in data[i]])\n",
    "        result.append(t)\n",
    "    return result\n",
    "\n",
    "\n",
    "def vectorize_data(train, test):\n",
    "    \n",
    "    _train = decode_data(train)\n",
    "    _test = decode_data(test)\n",
    "    \n",
    "    dtmvector = CountVectorizer()\n",
    "    train_dtm = dtmvector.fit_transform(_train)\n",
    "    \n",
    "    tfidf_transformer = TfidfTransformer()\n",
    "    tfidfv_train = tfidf_transformer.fit_transform(train_dtm)\n",
    "    \n",
    "    test_dtm = dtmvector.transform(_test)\n",
    "    tfidfv_test = tfidf_transformer.transform(test_dtm)\n",
    "    \n",
    "    return tfidfv_train, tfidfv_test"
   ]
  },
  {
   "cell_type": "markdown",
   "id": "3cb9f4ba",
   "metadata": {},
   "source": [
    "# 3. 실험 설계 및 수행"
   ]
  },
  {
   "cell_type": "code",
   "execution_count": 6,
   "id": "b259adb2",
   "metadata": {},
   "outputs": [],
   "source": [
    "from sklearn.naive_bayes import MultinomialNB\n",
    "from sklearn.naive_bayes import ComplementNB\n",
    "from sklearn.linear_model import LogisticRegression, SGDClassifier\n",
    "from sklearn.tree import DecisionTreeClassifier\n",
    "from sklearn.ensemble import RandomForestClassifier\n",
    "from sklearn.ensemble import GradientBoostingClassifier\n",
    "from sklearn.ensemble import VotingClassifier\n",
    "from sklearn.svm import LinearSVC\n",
    "from sklearn.metrics import accuracy_score, f1_score\n",
    "\n",
    "import os\n",
    "import pandas as pd\n",
    "\n",
    "columns = ['나이브 베이즈 분류기', 'CNB', '로지스틱 회귀', '서포트 벡터 머신', '결정 트리', '랜덤 포레스트', '그래디언트 부스팅 트리', '보팅']\n",
    "\n",
    "def experiment(num_words=None):\n",
    "    \n",
    "    key = 'All' if num_words is None else f'{str(num_words // 1000) + \"k\"}'\n",
    "    \n",
    "    print(f'### experiment start - {key}')\n",
    "    \n",
    "    if f'accuracy_{key}.csv' not in os.listdir('./results'):\n",
    "\n",
    "        x_train, y_train, x_test, y_test = get_data(num_words=num_words)\n",
    "    \n",
    "        tfidfv_train, tfidfv_test = vectorize_data(x_train, x_test)\n",
    "        \n",
    "        accuracy = []\n",
    "        f1 = []\n",
    "        \n",
    "        for model in [\n",
    "            MultinomialNB(), \n",
    "            ComplementNB(), \n",
    "            LogisticRegression(C=10000, penalty='l2'),\n",
    "            LinearSVC(C=1000, penalty='l1', max_iter=500, dual=False),\n",
    "            DecisionTreeClassifier(max_depth=10, random_state=0),\n",
    "            RandomForestClassifier(n_estimators=5, random_state=0),\n",
    "            GradientBoostingClassifier(random_state=0),\n",
    "            VotingClassifier(estimators=[\n",
    "                ('cb', ComplementNB()),\n",
    "                ('grbt', GradientBoostingClassifier(random_state=0))], voting='soft', n_jobs=-1)]:\n",
    "            \n",
    "            model.fit(tfidfv_train, y_train)\n",
    "            predict = model.predict(tfidfv_test)\n",
    "            \n",
    "            accuracy.append(accuracy_score(y_test, predict))\n",
    "            f1.append(f1_score(y_test, predict, average='micro'))\n",
    "        \n",
    "        accuracy_df = pd.DataFrame([accuracy], columns=columns)\n",
    "        accuracy_df.to_csv(f'./results/accuracy_{key}.csv', index=False)\n",
    "        \n",
    "        f1_df = pd.DataFrame([f1], columns=columns)\n",
    "        f1_df.to_csv(f'./results/f1_{key}.csv', index=False)\n",
    "        \n",
    "    print(f'### experiment end - {key}')"
   ]
  },
  {
   "cell_type": "code",
   "execution_count": 7,
   "id": "9729e130",
   "metadata": {
    "scrolled": true
   },
   "outputs": [
    {
     "name": "stdout",
     "output_type": "stream",
     "text": [
      "### experiment start - All\n"
     ]
    },
    {
     "name": "stderr",
     "output_type": "stream",
     "text": [
      "/opt/conda/lib/python3.9/site-packages/sklearn/linear_model/_logistic.py:814: ConvergenceWarning: lbfgs failed to converge (status=1):\n",
      "STOP: TOTAL NO. of ITERATIONS REACHED LIMIT.\n",
      "\n",
      "Increase the number of iterations (max_iter) or scale the data as shown in:\n",
      "    https://scikit-learn.org/stable/modules/preprocessing.html\n",
      "Please also refer to the documentation for alternative solver options:\n",
      "    https://scikit-learn.org/stable/modules/linear_model.html#logistic-regression\n",
      "  n_iter_i = _check_optimize_result(\n",
      "/opt/conda/lib/python3.9/site-packages/sklearn/svm/_base.py:1199: ConvergenceWarning: Liblinear failed to converge, increase the number of iterations.\n",
      "  warnings.warn(\n"
     ]
    },
    {
     "name": "stdout",
     "output_type": "stream",
     "text": [
      "### experiment end - All\n",
      "### experiment start - 5k\n"
     ]
    },
    {
     "name": "stderr",
     "output_type": "stream",
     "text": [
      "/opt/conda/lib/python3.9/site-packages/sklearn/linear_model/_logistic.py:814: ConvergenceWarning: lbfgs failed to converge (status=1):\n",
      "STOP: TOTAL NO. of ITERATIONS REACHED LIMIT.\n",
      "\n",
      "Increase the number of iterations (max_iter) or scale the data as shown in:\n",
      "    https://scikit-learn.org/stable/modules/preprocessing.html\n",
      "Please also refer to the documentation for alternative solver options:\n",
      "    https://scikit-learn.org/stable/modules/linear_model.html#logistic-regression\n",
      "  n_iter_i = _check_optimize_result(\n",
      "/opt/conda/lib/python3.9/site-packages/sklearn/svm/_base.py:1199: ConvergenceWarning: Liblinear failed to converge, increase the number of iterations.\n",
      "  warnings.warn(\n"
     ]
    },
    {
     "name": "stdout",
     "output_type": "stream",
     "text": [
      "### experiment end - 5k\n",
      "### experiment start - 10k\n"
     ]
    },
    {
     "name": "stderr",
     "output_type": "stream",
     "text": [
      "/opt/conda/lib/python3.9/site-packages/sklearn/linear_model/_logistic.py:814: ConvergenceWarning: lbfgs failed to converge (status=1):\n",
      "STOP: TOTAL NO. of ITERATIONS REACHED LIMIT.\n",
      "\n",
      "Increase the number of iterations (max_iter) or scale the data as shown in:\n",
      "    https://scikit-learn.org/stable/modules/preprocessing.html\n",
      "Please also refer to the documentation for alternative solver options:\n",
      "    https://scikit-learn.org/stable/modules/linear_model.html#logistic-regression\n",
      "  n_iter_i = _check_optimize_result(\n",
      "/opt/conda/lib/python3.9/site-packages/sklearn/svm/_base.py:1199: ConvergenceWarning: Liblinear failed to converge, increase the number of iterations.\n",
      "  warnings.warn(\n"
     ]
    },
    {
     "name": "stdout",
     "output_type": "stream",
     "text": [
      "### experiment end - 10k\n",
      "### experiment start - 15k\n"
     ]
    },
    {
     "name": "stderr",
     "output_type": "stream",
     "text": [
      "/opt/conda/lib/python3.9/site-packages/sklearn/linear_model/_logistic.py:814: ConvergenceWarning: lbfgs failed to converge (status=1):\n",
      "STOP: TOTAL NO. of ITERATIONS REACHED LIMIT.\n",
      "\n",
      "Increase the number of iterations (max_iter) or scale the data as shown in:\n",
      "    https://scikit-learn.org/stable/modules/preprocessing.html\n",
      "Please also refer to the documentation for alternative solver options:\n",
      "    https://scikit-learn.org/stable/modules/linear_model.html#logistic-regression\n",
      "  n_iter_i = _check_optimize_result(\n",
      "/opt/conda/lib/python3.9/site-packages/sklearn/svm/_base.py:1199: ConvergenceWarning: Liblinear failed to converge, increase the number of iterations.\n",
      "  warnings.warn(\n"
     ]
    },
    {
     "name": "stdout",
     "output_type": "stream",
     "text": [
      "### experiment end - 15k\n",
      "### experiment start - 20k\n"
     ]
    },
    {
     "name": "stderr",
     "output_type": "stream",
     "text": [
      "/opt/conda/lib/python3.9/site-packages/sklearn/linear_model/_logistic.py:814: ConvergenceWarning: lbfgs failed to converge (status=1):\n",
      "STOP: TOTAL NO. of ITERATIONS REACHED LIMIT.\n",
      "\n",
      "Increase the number of iterations (max_iter) or scale the data as shown in:\n",
      "    https://scikit-learn.org/stable/modules/preprocessing.html\n",
      "Please also refer to the documentation for alternative solver options:\n",
      "    https://scikit-learn.org/stable/modules/linear_model.html#logistic-regression\n",
      "  n_iter_i = _check_optimize_result(\n",
      "/opt/conda/lib/python3.9/site-packages/sklearn/svm/_base.py:1199: ConvergenceWarning: Liblinear failed to converge, increase the number of iterations.\n",
      "  warnings.warn(\n"
     ]
    },
    {
     "name": "stdout",
     "output_type": "stream",
     "text": [
      "### experiment end - 20k\n"
     ]
    }
   ],
   "source": [
    "for num_words in [None, 5000, 10000, 15000, 20000]:\n",
    "    experiment(num_words=num_words)"
   ]
  },
  {
   "cell_type": "markdown",
   "id": "1e7965e7",
   "metadata": {},
   "source": [
    "# 4. 결과 확인"
   ]
  },
  {
   "cell_type": "code",
   "execution_count": 9,
   "id": "ef03d55f",
   "metadata": {},
   "outputs": [],
   "source": [
    "import pandas as pd\n",
    "\n",
    "def concatenate_result(_type):\n",
    "    result = []\n",
    "    for num_words in ['5k', '10k', '15k', '20k', 'All']:\n",
    "        _df = pd.read_csv(f'./results/{_type}_{num_words}.csv')\n",
    "        _df.index.name = 'num_words'\n",
    "        _df.index = [f'{num_words}']\n",
    "        result.append(_df)\n",
    "    \n",
    "    return pd.concat(result)"
   ]
  },
  {
   "cell_type": "code",
   "execution_count": 10,
   "id": "3f53e622",
   "metadata": {},
   "outputs": [
    {
     "data": {
      "text/html": [
       "<div>\n",
       "<style scoped>\n",
       "    .dataframe tbody tr th:only-of-type {\n",
       "        vertical-align: middle;\n",
       "    }\n",
       "\n",
       "    .dataframe tbody tr th {\n",
       "        vertical-align: top;\n",
       "    }\n",
       "\n",
       "    .dataframe thead th {\n",
       "        text-align: right;\n",
       "    }\n",
       "</style>\n",
       "<table border=\"1\" class=\"dataframe\">\n",
       "  <thead>\n",
       "    <tr style=\"text-align: right;\">\n",
       "      <th></th>\n",
       "      <th>나이브 베이즈 분류기</th>\n",
       "      <th>CNB</th>\n",
       "      <th>로지스틱 회귀</th>\n",
       "      <th>서포트 벡터 머신</th>\n",
       "      <th>결정 트리</th>\n",
       "      <th>랜덤 포레스트</th>\n",
       "      <th>그래디언트 부스팅 트리</th>\n",
       "      <th>보팅</th>\n",
       "    </tr>\n",
       "  </thead>\n",
       "  <tbody>\n",
       "    <tr>\n",
       "      <th>5k</th>\n",
       "      <td>0.673197</td>\n",
       "      <td>0.770703</td>\n",
       "      <td>0.805877</td>\n",
       "      <td>0.772930</td>\n",
       "      <td>0.617988</td>\n",
       "      <td>0.701247</td>\n",
       "      <td>0.767587</td>\n",
       "      <td>0.772930</td>\n",
       "    </tr>\n",
       "    <tr>\n",
       "      <th>10k</th>\n",
       "      <td>0.656723</td>\n",
       "      <td>0.770703</td>\n",
       "      <td>0.807658</td>\n",
       "      <td>0.770703</td>\n",
       "      <td>0.620214</td>\n",
       "      <td>0.674087</td>\n",
       "      <td>0.766251</td>\n",
       "      <td>0.771594</td>\n",
       "    </tr>\n",
       "    <tr>\n",
       "      <th>15k</th>\n",
       "      <td>0.633126</td>\n",
       "      <td>0.772039</td>\n",
       "      <td>0.812556</td>\n",
       "      <td>0.780499</td>\n",
       "      <td>0.619323</td>\n",
       "      <td>0.671416</td>\n",
       "      <td>0.770703</td>\n",
       "      <td>0.772930</td>\n",
       "    </tr>\n",
       "    <tr>\n",
       "      <th>20k</th>\n",
       "      <td>0.619323</td>\n",
       "      <td>0.767142</td>\n",
       "      <td>0.809884</td>\n",
       "      <td>0.785841</td>\n",
       "      <td>0.621104</td>\n",
       "      <td>0.671416</td>\n",
       "      <td>0.770258</td>\n",
       "      <td>0.773820</td>\n",
       "    </tr>\n",
       "    <tr>\n",
       "      <th>All</th>\n",
       "      <td>0.599733</td>\n",
       "      <td>0.764915</td>\n",
       "      <td>0.813446</td>\n",
       "      <td>0.780499</td>\n",
       "      <td>0.621104</td>\n",
       "      <td>0.654497</td>\n",
       "      <td>0.770258</td>\n",
       "      <td>0.773820</td>\n",
       "    </tr>\n",
       "  </tbody>\n",
       "</table>\n",
       "</div>"
      ],
      "text/plain": [
       "     나이브 베이즈 분류기       CNB   로지스틱 회귀  서포트 벡터 머신     결정 트리   랜덤 포레스트  \\\n",
       "5k      0.673197  0.770703  0.805877   0.772930  0.617988  0.701247   \n",
       "10k     0.656723  0.770703  0.807658   0.770703  0.620214  0.674087   \n",
       "15k     0.633126  0.772039  0.812556   0.780499  0.619323  0.671416   \n",
       "20k     0.619323  0.767142  0.809884   0.785841  0.621104  0.671416   \n",
       "All     0.599733  0.764915  0.813446   0.780499  0.621104  0.654497   \n",
       "\n",
       "     그래디언트 부스팅 트리        보팅  \n",
       "5k       0.767587  0.772930  \n",
       "10k      0.766251  0.771594  \n",
       "15k      0.770703  0.772930  \n",
       "20k      0.770258  0.773820  \n",
       "All      0.770258  0.773820  "
      ]
     },
     "execution_count": 10,
     "metadata": {},
     "output_type": "execute_result"
    }
   ],
   "source": [
    "concatenate_result('accuracy')"
   ]
  },
  {
   "cell_type": "code",
   "execution_count": 11,
   "id": "f09dea2d",
   "metadata": {},
   "outputs": [
    {
     "data": {
      "text/html": [
       "<div>\n",
       "<style scoped>\n",
       "    .dataframe tbody tr th:only-of-type {\n",
       "        vertical-align: middle;\n",
       "    }\n",
       "\n",
       "    .dataframe tbody tr th {\n",
       "        vertical-align: top;\n",
       "    }\n",
       "\n",
       "    .dataframe thead th {\n",
       "        text-align: right;\n",
       "    }\n",
       "</style>\n",
       "<table border=\"1\" class=\"dataframe\">\n",
       "  <thead>\n",
       "    <tr style=\"text-align: right;\">\n",
       "      <th></th>\n",
       "      <th>나이브 베이즈 분류기</th>\n",
       "      <th>CNB</th>\n",
       "      <th>로지스틱 회귀</th>\n",
       "      <th>서포트 벡터 머신</th>\n",
       "      <th>결정 트리</th>\n",
       "      <th>랜덤 포레스트</th>\n",
       "      <th>그래디언트 부스팅 트리</th>\n",
       "      <th>보팅</th>\n",
       "    </tr>\n",
       "  </thead>\n",
       "  <tbody>\n",
       "    <tr>\n",
       "      <th>5k</th>\n",
       "      <td>0.673197</td>\n",
       "      <td>0.770703</td>\n",
       "      <td>0.805877</td>\n",
       "      <td>0.772930</td>\n",
       "      <td>0.617988</td>\n",
       "      <td>0.701247</td>\n",
       "      <td>0.767587</td>\n",
       "      <td>0.772930</td>\n",
       "    </tr>\n",
       "    <tr>\n",
       "      <th>10k</th>\n",
       "      <td>0.656723</td>\n",
       "      <td>0.770703</td>\n",
       "      <td>0.807658</td>\n",
       "      <td>0.770703</td>\n",
       "      <td>0.620214</td>\n",
       "      <td>0.674087</td>\n",
       "      <td>0.766251</td>\n",
       "      <td>0.771594</td>\n",
       "    </tr>\n",
       "    <tr>\n",
       "      <th>15k</th>\n",
       "      <td>0.633126</td>\n",
       "      <td>0.772039</td>\n",
       "      <td>0.812556</td>\n",
       "      <td>0.780499</td>\n",
       "      <td>0.619323</td>\n",
       "      <td>0.671416</td>\n",
       "      <td>0.770703</td>\n",
       "      <td>0.772930</td>\n",
       "    </tr>\n",
       "    <tr>\n",
       "      <th>20k</th>\n",
       "      <td>0.619323</td>\n",
       "      <td>0.767142</td>\n",
       "      <td>0.809884</td>\n",
       "      <td>0.785841</td>\n",
       "      <td>0.621104</td>\n",
       "      <td>0.671416</td>\n",
       "      <td>0.770258</td>\n",
       "      <td>0.773820</td>\n",
       "    </tr>\n",
       "    <tr>\n",
       "      <th>All</th>\n",
       "      <td>0.599733</td>\n",
       "      <td>0.764915</td>\n",
       "      <td>0.813446</td>\n",
       "      <td>0.780499</td>\n",
       "      <td>0.621104</td>\n",
       "      <td>0.654497</td>\n",
       "      <td>0.770258</td>\n",
       "      <td>0.773820</td>\n",
       "    </tr>\n",
       "  </tbody>\n",
       "</table>\n",
       "</div>"
      ],
      "text/plain": [
       "     나이브 베이즈 분류기       CNB   로지스틱 회귀  서포트 벡터 머신     결정 트리   랜덤 포레스트  \\\n",
       "5k      0.673197  0.770703  0.805877   0.772930  0.617988  0.701247   \n",
       "10k     0.656723  0.770703  0.807658   0.770703  0.620214  0.674087   \n",
       "15k     0.633126  0.772039  0.812556   0.780499  0.619323  0.671416   \n",
       "20k     0.619323  0.767142  0.809884   0.785841  0.621104  0.671416   \n",
       "All     0.599733  0.764915  0.813446   0.780499  0.621104  0.654497   \n",
       "\n",
       "     그래디언트 부스팅 트리        보팅  \n",
       "5k       0.767587  0.772930  \n",
       "10k      0.766251  0.771594  \n",
       "15k      0.770703  0.772930  \n",
       "20k      0.770258  0.773820  \n",
       "All      0.770258  0.773820  "
      ]
     },
     "execution_count": 11,
     "metadata": {},
     "output_type": "execute_result"
    }
   ],
   "source": [
    "concatenate_result('f1')"
   ]
  },
  {
   "cell_type": "markdown",
   "id": "247cc133",
   "metadata": {},
   "source": [
    "# 5. 딥러닝 모델 성능 확인"
   ]
  },
  {
   "cell_type": "code",
   "execution_count": 20,
   "id": "6c7ea919",
   "metadata": {},
   "outputs": [],
   "source": [
    "import os\n",
    "from sklearn.metrics import accuracy_score, f1_score\n",
    "from tensorflow.keras.layers import Dense, LSTM, Embedding\n",
    "from keras.models import Sequential\n",
    "from keras.callbacks import EarlyStopping\n",
    "\n",
    "import numpy as np\n",
    "import pandas as pd\n",
    "\n",
    "def d_experiment(num_words=None):\n",
    "    \n",
    "    key = 'All' if num_words is None else f'{str(num_words // 1000) + \"k\"}'\n",
    "    \n",
    "    \n",
    "        \n",
    "    x_train, y_train, x_test, y_test = get_data(num_words=num_words)\n",
    "    tfidfv_train, tfidfv_test = vectorize_data(x_train, x_test)\n",
    "\n",
    "    num_classes = max(y_train) + 1\n",
    "\n",
    "    word_vector_dim = 32  \n",
    "\n",
    "    model = Sequential()\n",
    "#         model.add(Embedding(num_words, word_vector_dim))\n",
    "#         model.add(LSTM(128))\n",
    "\n",
    "    model.add(Dense(128, activation='relu', input_shape=(tfidfv_train.todense().shape[1],)))  \n",
    "\n",
    "    model.add(Dense(128, activation='relu')) \n",
    "    model.add(Dense(64, activation='relu'))\n",
    "    model.add(Dense(num_classes, activation='softmax'))  \n",
    "\n",
    "    model.summary()\n",
    "\n",
    "    model.compile(optimizer='adam', loss='sparse_categorical_crossentropy', metrics=['accuracy'])\n",
    "\n",
    "    es = EarlyStopping(monitor='val_loss', mode='min', verbose=1, patience=5)\n",
    "\n",
    "    history = model.fit(tfidfv_train.todense(), #.toarray(),\n",
    "                        y_train,\n",
    "                        epochs=50,\n",
    "                        batch_size=64,\n",
    "                        callbacks=[es],\n",
    "                        validation_split=0.2,\n",
    "                        verbose=1)\n",
    "\n",
    "    predict = model.predict(tfidfv_test.todense()).argmax(axis=1)\n",
    "\n",
    "    return history, y_test, predict"
   ]
  },
  {
   "cell_type": "code",
   "execution_count": 27,
   "id": "78cee6f3",
   "metadata": {},
   "outputs": [],
   "source": [
    "import matplotlib.pyplot as plt\n",
    "\n",
    "def show_history(key, history):\n",
    "    plt.plot(history.history['accuracy'])\n",
    "    plt.plot(history.history['val_accuracy'])\n",
    "    plt.title(f'{key} accuracy')\n",
    "    plt.ylabel('accuracy')\n",
    "    plt.xlabel('epoch')\n",
    "    plt.legend(['train', 'val'], loc='upper left')\n",
    "    plt.show()\n",
    "    \n",
    "    plt.plot(history.history['loss'])\n",
    "    plt.plot(history.history['val_loss'])\n",
    "    plt.title(f'{key} loss')\n",
    "    plt.ylabel('loss')\n",
    "    plt.xlabel('epoch')\n",
    "    plt.legend(['train', 'val'], loc='upper left')\n",
    "    plt.show()"
   ]
  },
  {
   "cell_type": "code",
   "execution_count": 29,
   "id": "ba357df0",
   "metadata": {},
   "outputs": [],
   "source": [
    "from sklearn.metrics import classification_report\n",
    "\n",
    "def show_report(y, pred):\n",
    "    print(classification_report(y, pred))"
   ]
  },
  {
   "cell_type": "markdown",
   "id": "b8129ad3",
   "metadata": {},
   "source": [
    "## 5.1 단어수 5000"
   ]
  },
  {
   "cell_type": "code",
   "execution_count": 23,
   "id": "1ed9689f",
   "metadata": {
    "scrolled": false
   },
   "outputs": [
    {
     "name": "stdout",
     "output_type": "stream",
     "text": [
      "Model: \"sequential_9\"\n",
      "_________________________________________________________________\n",
      "Layer (type)                 Output Shape              Param #   \n",
      "=================================================================\n",
      "dense_31 (Dense)             (None, 128)               623104    \n",
      "_________________________________________________________________\n",
      "dense_32 (Dense)             (None, 128)               16512     \n",
      "_________________________________________________________________\n",
      "dense_33 (Dense)             (None, 64)                8256      \n",
      "_________________________________________________________________\n",
      "dense_34 (Dense)             (None, 46)                2990      \n",
      "=================================================================\n",
      "Total params: 650,862\n",
      "Trainable params: 650,862\n",
      "Non-trainable params: 0\n",
      "_________________________________________________________________\n",
      "Epoch 1/50\n",
      "113/113 [==============================] - 1s 5ms/step - loss: 2.1489 - accuracy: 0.4825 - val_loss: 1.4509 - val_accuracy: 0.6667\n",
      "Epoch 2/50\n",
      "113/113 [==============================] - 0s 3ms/step - loss: 1.1667 - accuracy: 0.7196 - val_loss: 1.0925 - val_accuracy: 0.7546\n",
      "Epoch 3/50\n",
      "113/113 [==============================] - 0s 3ms/step - loss: 0.7722 - accuracy: 0.8160 - val_loss: 0.9704 - val_accuracy: 0.7863\n",
      "Epoch 4/50\n",
      "113/113 [==============================] - 0s 3ms/step - loss: 0.4923 - accuracy: 0.8796 - val_loss: 0.9563 - val_accuracy: 0.7924\n",
      "Epoch 5/50\n",
      "113/113 [==============================] - 0s 3ms/step - loss: 0.3280 - accuracy: 0.9186 - val_loss: 0.9928 - val_accuracy: 0.7947\n",
      "Epoch 6/50\n",
      "113/113 [==============================] - 0s 3ms/step - loss: 0.2334 - accuracy: 0.9425 - val_loss: 1.0476 - val_accuracy: 0.7891\n",
      "Epoch 7/50\n",
      "113/113 [==============================] - 0s 3ms/step - loss: 0.1912 - accuracy: 0.9543 - val_loss: 1.1029 - val_accuracy: 0.7852\n",
      "Epoch 8/50\n",
      "113/113 [==============================] - 0s 3ms/step - loss: 0.1592 - accuracy: 0.9581 - val_loss: 1.1098 - val_accuracy: 0.7874\n",
      "Epoch 9/50\n",
      "113/113 [==============================] - 0s 3ms/step - loss: 0.1398 - accuracy: 0.9610 - val_loss: 1.1386 - val_accuracy: 0.7891\n",
      "Epoch 00009: early stopping\n"
     ]
    }
   ],
   "source": [
    "history_5k, y_5k, pred_5k = d_experiment(num_words=5000)"
   ]
  },
  {
   "cell_type": "code",
   "execution_count": 28,
   "id": "f0bb5f50",
   "metadata": {},
   "outputs": [
    {
     "data": {
      "image/png": "[encoded data removed]",
      "text/plain": [
       "<Figure size 432x288 with 1 Axes>"
      ]
     },
     "metadata": {
      "needs_background": "light"
     },
     "output_type": "display_data"
    },
    {
     "data": {
      "image/png": "[encoded data removed]",
      "text/plain": [
       "<Figure size 432x288 with 1 Axes>"
      ]
     },
     "metadata": {
      "needs_background": "light"
     },
     "output_type": "display_data"
    }
   ],
   "source": [
    "show_history('5k', history_5k)"
   ]
  },
  {
   "cell_type": "code",
   "execution_count": 31,
   "id": "b40b5f9e",
   "metadata": {},
   "outputs": [
    {
     "name": "stdout",
     "output_type": "stream",
     "text": [
      "              precision    recall  f1-score   support\n",
      "\n",
      "           0       0.89      0.67      0.76        12\n",
      "           1       0.70      0.74      0.72       105\n",
      "           2       0.67      0.60      0.63        20\n",
      "           3       0.90      0.94      0.92       813\n",
      "           4       0.83      0.88      0.85       474\n",
      "           5       1.00      0.20      0.33         5\n",
      "           6       0.89      0.57      0.70        14\n",
      "           7       0.50      0.33      0.40         3\n",
      "           8       0.53      0.68      0.60        38\n",
      "           9       0.82      0.72      0.77        25\n",
      "          10       0.93      0.90      0.92        30\n",
      "          11       0.56      0.77      0.65        83\n",
      "          12       0.60      0.23      0.33        13\n",
      "          13       0.71      0.59      0.65        37\n",
      "          14       0.33      0.50      0.40         2\n",
      "          15       0.67      0.22      0.33         9\n",
      "          16       0.70      0.72      0.71        99\n",
      "          17       0.50      0.08      0.14        12\n",
      "          18       0.75      0.60      0.67        20\n",
      "          19       0.64      0.72      0.68       133\n",
      "          20       0.64      0.46      0.53        70\n",
      "          21       0.56      0.56      0.56        27\n",
      "          22       0.25      0.14      0.18         7\n",
      "          23       0.37      0.58      0.45        12\n",
      "          24       0.54      0.37      0.44        19\n",
      "          25       0.94      0.55      0.69        31\n",
      "          26       1.00      0.75      0.86         8\n",
      "          27       1.00      0.50      0.67         4\n",
      "          28       0.40      0.40      0.40        10\n",
      "          29       0.33      0.25      0.29         4\n",
      "          30       0.57      0.33      0.42        12\n",
      "          31       0.60      0.46      0.52        13\n",
      "          32       1.00      0.70      0.82        10\n",
      "          33       1.00      0.80      0.89         5\n",
      "          34       1.00      0.43      0.60         7\n",
      "          35       0.50      0.17      0.25         6\n",
      "          36       0.75      0.27      0.40        11\n",
      "          37       0.00      0.00      0.00         2\n",
      "          38       1.00      0.33      0.50         3\n",
      "          39       0.33      0.20      0.25         5\n",
      "          40       0.50      0.20      0.29        10\n",
      "          41       0.67      0.50      0.57         8\n",
      "          42       1.00      0.67      0.80         3\n",
      "          43       0.57      0.67      0.62         6\n",
      "          44       1.00      0.80      0.89         5\n",
      "          45       0.50      1.00      0.67         1\n",
      "\n",
      "    accuracy                           0.79      2246\n",
      "   macro avg       0.68      0.52      0.56      2246\n",
      "weighted avg       0.79      0.79      0.78      2246\n",
      "\n"
     ]
    },
    {
     "name": "stderr",
     "output_type": "stream",
     "text": [
      "/opt/conda/lib/python3.9/site-packages/sklearn/metrics/_classification.py:1308: UndefinedMetricWarning: Precision and F-score are ill-defined and being set to 0.0 in labels with no predicted samples. Use `zero_division` parameter to control this behavior.\n",
      "  _warn_prf(average, modifier, msg_start, len(result))\n",
      "/opt/conda/lib/python3.9/site-packages/sklearn/metrics/_classification.py:1308: UndefinedMetricWarning: Precision and F-score are ill-defined and being set to 0.0 in labels with no predicted samples. Use `zero_division` parameter to control this behavior.\n",
      "  _warn_prf(average, modifier, msg_start, len(result))\n",
      "/opt/conda/lib/python3.9/site-packages/sklearn/metrics/_classification.py:1308: UndefinedMetricWarning: Precision and F-score are ill-defined and being set to 0.0 in labels with no predicted samples. Use `zero_division` parameter to control this behavior.\n",
      "  _warn_prf(average, modifier, msg_start, len(result))\n"
     ]
    }
   ],
   "source": [
    "show_report(y_5k, pred_5k)"
   ]
  },
  {
   "cell_type": "markdown",
   "id": "87008605",
   "metadata": {},
   "source": [
    "## 5.2 단어수 10000"
   ]
  },
  {
   "cell_type": "code",
   "execution_count": 32,
   "id": "ba5b4d02",
   "metadata": {},
   "outputs": [
    {
     "name": "stdout",
     "output_type": "stream",
     "text": [
      "Model: \"sequential_10\"\n",
      "_________________________________________________________________\n",
      "Layer (type)                 Output Shape              Param #   \n",
      "=================================================================\n",
      "dense_35 (Dense)             (None, 128)               1237888   \n",
      "_________________________________________________________________\n",
      "dense_36 (Dense)             (None, 128)               16512     \n",
      "_________________________________________________________________\n",
      "dense_37 (Dense)             (None, 64)                8256      \n",
      "_________________________________________________________________\n",
      "dense_38 (Dense)             (None, 46)                2990      \n",
      "=================================================================\n",
      "Total params: 1,265,646\n",
      "Trainable params: 1,265,646\n",
      "Non-trainable params: 0\n",
      "_________________________________________________________________\n",
      "Epoch 1/50\n",
      "113/113 [==============================] - 1s 6ms/step - loss: 2.1246 - accuracy: 0.5222 - val_loss: 1.4215 - val_accuracy: 0.6700\n",
      "Epoch 2/50\n",
      "113/113 [==============================] - 0s 4ms/step - loss: 1.1371 - accuracy: 0.7297 - val_loss: 1.0670 - val_accuracy: 0.7501\n",
      "Epoch 3/50\n",
      "113/113 [==============================] - 0s 4ms/step - loss: 0.6858 - accuracy: 0.8383 - val_loss: 0.9467 - val_accuracy: 0.7891\n",
      "Epoch 4/50\n",
      "113/113 [==============================] - 0s 4ms/step - loss: 0.3943 - accuracy: 0.9094 - val_loss: 0.9726 - val_accuracy: 0.7874\n",
      "Epoch 5/50\n",
      "113/113 [==============================] - 0s 4ms/step - loss: 0.2452 - accuracy: 0.9422 - val_loss: 1.0121 - val_accuracy: 0.7935\n",
      "Epoch 6/50\n",
      "113/113 [==============================] - 0s 4ms/step - loss: 0.1758 - accuracy: 0.9562 - val_loss: 1.0241 - val_accuracy: 0.8041\n",
      "Epoch 7/50\n",
      "113/113 [==============================] - 0s 4ms/step - loss: 0.1458 - accuracy: 0.9612 - val_loss: 1.0727 - val_accuracy: 0.7891\n",
      "Epoch 8/50\n",
      "113/113 [==============================] - 0s 4ms/step - loss: 0.1378 - accuracy: 0.9599 - val_loss: 1.1936 - val_accuracy: 0.7852\n",
      "Epoch 00008: early stopping\n"
     ]
    }
   ],
   "source": [
    "history_10k, y_10k, pred_10k = d_experiment(num_words=10000)"
   ]
  },
  {
   "cell_type": "code",
   "execution_count": 33,
   "id": "3d5c67ac",
   "metadata": {},
   "outputs": [
    {
     "data": {
      "image/png": "[encoded data removed]",
      "text/plain": [
       "<Figure size 432x288 with 1 Axes>"
      ]
     },
     "metadata": {
      "needs_background": "light"
     },
     "output_type": "display_data"
    },
    {
     "data": {
      "image/png": "[encoded data removed]",
      "text/plain": [
       "<Figure size 432x288 with 1 Axes>"
      ]
     },
     "metadata": {
      "needs_background": "light"
     },
     "output_type": "display_data"
    }
   ],
   "source": [
    "show_history('10k', history_10k)"
   ]
  },
  {
   "cell_type": "code",
   "execution_count": 34,
   "id": "b5aeee55",
   "metadata": {},
   "outputs": [
    {
     "name": "stdout",
     "output_type": "stream",
     "text": [
      "              precision    recall  f1-score   support\n",
      "\n",
      "           0       0.89      0.67      0.76        12\n",
      "           1       0.63      0.82      0.71       105\n",
      "           2       0.83      0.50      0.62        20\n",
      "           3       0.87      0.95      0.91       813\n",
      "           4       0.86      0.84      0.85       474\n",
      "           5       0.00      0.00      0.00         5\n",
      "           6       0.91      0.71      0.80        14\n",
      "           7       1.00      0.33      0.50         3\n",
      "           8       0.64      0.47      0.55        38\n",
      "           9       0.83      0.80      0.82        25\n",
      "          10       0.96      0.73      0.83        30\n",
      "          11       0.54      0.75      0.63        83\n",
      "          12       0.67      0.15      0.25        13\n",
      "          13       0.62      0.65      0.63        37\n",
      "          14       1.00      0.50      0.67         2\n",
      "          15       0.40      0.22      0.29         9\n",
      "          16       0.78      0.67      0.72        99\n",
      "          17       0.67      0.17      0.27        12\n",
      "          18       0.92      0.60      0.73        20\n",
      "          19       0.55      0.79      0.65       133\n",
      "          20       0.64      0.41      0.50        70\n",
      "          21       0.68      0.78      0.72        27\n",
      "          22       0.00      0.00      0.00         7\n",
      "          23       0.50      0.17      0.25        12\n",
      "          24       0.64      0.37      0.47        19\n",
      "          25       0.84      0.52      0.64        31\n",
      "          26       1.00      0.75      0.86         8\n",
      "          27       1.00      0.25      0.40         4\n",
      "          28       0.60      0.30      0.40        10\n",
      "          29       0.33      0.50      0.40         4\n",
      "          30       1.00      0.17      0.29        12\n",
      "          31       0.83      0.38      0.53        13\n",
      "          32       0.88      0.70      0.78        10\n",
      "          33       0.80      0.80      0.80         5\n",
      "          34       0.67      0.29      0.40         7\n",
      "          35       1.00      0.17      0.29         6\n",
      "          36       0.40      0.36      0.38        11\n",
      "          37       0.00      0.00      0.00         2\n",
      "          38       0.50      0.33      0.40         3\n",
      "          39       0.50      0.40      0.44         5\n",
      "          40       1.00      0.30      0.46        10\n",
      "          41       0.25      0.25      0.25         8\n",
      "          42       1.00      0.33      0.50         3\n",
      "          43       0.83      0.83      0.83         6\n",
      "          44       1.00      0.80      0.89         5\n",
      "          45       0.50      1.00      0.67         1\n",
      "\n",
      "    accuracy                           0.78      2246\n",
      "   macro avg       0.69      0.49      0.54      2246\n",
      "weighted avg       0.79      0.78      0.77      2246\n",
      "\n"
     ]
    },
    {
     "name": "stderr",
     "output_type": "stream",
     "text": [
      "/opt/conda/lib/python3.9/site-packages/sklearn/metrics/_classification.py:1308: UndefinedMetricWarning: Precision and F-score are ill-defined and being set to 0.0 in labels with no predicted samples. Use `zero_division` parameter to control this behavior.\n",
      "  _warn_prf(average, modifier, msg_start, len(result))\n",
      "/opt/conda/lib/python3.9/site-packages/sklearn/metrics/_classification.py:1308: UndefinedMetricWarning: Precision and F-score are ill-defined and being set to 0.0 in labels with no predicted samples. Use `zero_division` parameter to control this behavior.\n",
      "  _warn_prf(average, modifier, msg_start, len(result))\n",
      "/opt/conda/lib/python3.9/site-packages/sklearn/metrics/_classification.py:1308: UndefinedMetricWarning: Precision and F-score are ill-defined and being set to 0.0 in labels with no predicted samples. Use `zero_division` parameter to control this behavior.\n",
      "  _warn_prf(average, modifier, msg_start, len(result))\n"
     ]
    }
   ],
   "source": [
    "show_report(y_10k, pred_10k)"
   ]
  },
  {
   "cell_type": "markdown",
   "id": "ecb0bcd3",
   "metadata": {},
   "source": [
    "## 5.3 단어수 15000"
   ]
  },
  {
   "cell_type": "code",
   "execution_count": 35,
   "id": "92a2a5de",
   "metadata": {},
   "outputs": [
    {
     "name": "stdout",
     "output_type": "stream",
     "text": [
      "Model: \"sequential_11\"\n",
      "_________________________________________________________________\n",
      "Layer (type)                 Output Shape              Param #   \n",
      "=================================================================\n",
      "dense_39 (Dense)             (None, 128)               1821184   \n",
      "_________________________________________________________________\n",
      "dense_40 (Dense)             (None, 128)               16512     \n",
      "_________________________________________________________________\n",
      "dense_41 (Dense)             (None, 64)                8256      \n",
      "_________________________________________________________________\n",
      "dense_42 (Dense)             (None, 46)                2990      \n",
      "=================================================================\n",
      "Total params: 1,848,942\n",
      "Trainable params: 1,848,942\n",
      "Non-trainable params: 0\n",
      "_________________________________________________________________\n",
      "Epoch 1/50\n",
      "113/113 [==============================] - 1s 7ms/step - loss: 2.1751 - accuracy: 0.4919 - val_loss: 1.4590 - val_accuracy: 0.6650\n",
      "Epoch 2/50\n",
      "113/113 [==============================] - 0s 4ms/step - loss: 1.1549 - accuracy: 0.7211 - val_loss: 1.1022 - val_accuracy: 0.7457\n",
      "Epoch 3/50\n",
      "113/113 [==============================] - 0s 4ms/step - loss: 0.7077 - accuracy: 0.8299 - val_loss: 0.9931 - val_accuracy: 0.7757\n",
      "Epoch 4/50\n",
      "113/113 [==============================] - 0s 4ms/step - loss: 0.4219 - accuracy: 0.9037 - val_loss: 0.9684 - val_accuracy: 0.7846\n",
      "Epoch 5/50\n",
      "113/113 [==============================] - 0s 4ms/step - loss: 0.2642 - accuracy: 0.9388 - val_loss: 1.0223 - val_accuracy: 0.7885\n",
      "Epoch 6/50\n",
      "113/113 [==============================] - 0s 4ms/step - loss: 0.2003 - accuracy: 0.9528 - val_loss: 1.0046 - val_accuracy: 0.7952\n",
      "Epoch 7/50\n",
      "113/113 [==============================] - 0s 4ms/step - loss: 0.1614 - accuracy: 0.9578 - val_loss: 1.0145 - val_accuracy: 0.8002\n",
      "Epoch 8/50\n",
      "113/113 [==============================] - 0s 4ms/step - loss: 0.1301 - accuracy: 0.9626 - val_loss: 1.0507 - val_accuracy: 0.7902\n",
      "Epoch 9/50\n",
      "113/113 [==============================] - 0s 4ms/step - loss: 0.1284 - accuracy: 0.9587 - val_loss: 1.0454 - val_accuracy: 0.7991\n",
      "Epoch 00009: early stopping\n"
     ]
    }
   ],
   "source": [
    "history_15k, y_15k, pred_15k = d_experiment(num_words=15000)"
   ]
  },
  {
   "cell_type": "code",
   "execution_count": 36,
   "id": "3675af93",
   "metadata": {},
   "outputs": [
    {
     "data": {
      "image/png": "[encoded data removed]",
      "text/plain": [
       "<Figure size 432x288 with 1 Axes>"
      ]
     },
     "metadata": {
      "needs_background": "light"
     },
     "output_type": "display_data"
    },
    {
     "data": {
      "image/png": "[encoded data removed]",
      "text/plain": [
       "<Figure size 432x288 with 1 Axes>"
      ]
     },
     "metadata": {
      "needs_background": "light"
     },
     "output_type": "display_data"
    }
   ],
   "source": [
    "show_history('15k', history_15k)"
   ]
  },
  {
   "cell_type": "code",
   "execution_count": 37,
   "id": "19664327",
   "metadata": {},
   "outputs": [
    {
     "name": "stdout",
     "output_type": "stream",
     "text": [
      "              precision    recall  f1-score   support\n",
      "\n",
      "           0       0.73      0.67      0.70        12\n",
      "           1       0.72      0.77      0.75       105\n",
      "           2       0.61      0.55      0.58        20\n",
      "           3       0.92      0.91      0.91       813\n",
      "           4       0.77      0.88      0.82       474\n",
      "           5       0.50      0.20      0.29         5\n",
      "           6       0.92      0.86      0.89        14\n",
      "           7       1.00      0.33      0.50         3\n",
      "           8       0.66      0.66      0.66        38\n",
      "           9       0.81      0.84      0.82        25\n",
      "          10       0.93      0.87      0.90        30\n",
      "          11       0.73      0.70      0.72        83\n",
      "          12       0.23      0.23      0.23        13\n",
      "          13       0.63      0.59      0.61        37\n",
      "          14       0.00      0.00      0.00         2\n",
      "          15       0.33      0.11      0.17         9\n",
      "          16       0.64      0.77      0.70        99\n",
      "          17       0.50      0.25      0.33        12\n",
      "          18       0.72      0.65      0.68        20\n",
      "          19       0.72      0.68      0.70       133\n",
      "          20       0.66      0.63      0.64        70\n",
      "          21       0.67      0.67      0.67        27\n",
      "          22       0.00      0.00      0.00         7\n",
      "          23       0.38      0.25      0.30        12\n",
      "          24       0.53      0.42      0.47        19\n",
      "          25       0.81      0.68      0.74        31\n",
      "          26       1.00      0.62      0.77         8\n",
      "          27       0.40      0.50      0.44         4\n",
      "          28       0.33      0.50      0.40        10\n",
      "          29       0.50      0.50      0.50         4\n",
      "          30       0.62      0.42      0.50        12\n",
      "          31       0.67      0.46      0.55        13\n",
      "          32       0.80      0.80      0.80        10\n",
      "          33       0.80      0.80      0.80         5\n",
      "          34       1.00      0.43      0.60         7\n",
      "          35       0.67      0.33      0.44         6\n",
      "          36       0.60      0.55      0.57        11\n",
      "          37       1.00      0.50      0.67         2\n",
      "          38       1.00      0.33      0.50         3\n",
      "          39       0.00      0.00      0.00         5\n",
      "          40       0.71      0.50      0.59        10\n",
      "          41       0.50      0.25      0.33         8\n",
      "          42       1.00      0.33      0.50         3\n",
      "          43       0.80      0.67      0.73         6\n",
      "          44       1.00      0.80      0.89         5\n",
      "          45       1.00      1.00      1.00         1\n",
      "\n",
      "    accuracy                           0.79      2246\n",
      "   macro avg       0.66      0.53      0.57      2246\n",
      "weighted avg       0.78      0.79      0.78      2246\n",
      "\n"
     ]
    },
    {
     "name": "stderr",
     "output_type": "stream",
     "text": [
      "/opt/conda/lib/python3.9/site-packages/sklearn/metrics/_classification.py:1308: UndefinedMetricWarning: Precision and F-score are ill-defined and being set to 0.0 in labels with no predicted samples. Use `zero_division` parameter to control this behavior.\n",
      "  _warn_prf(average, modifier, msg_start, len(result))\n",
      "/opt/conda/lib/python3.9/site-packages/sklearn/metrics/_classification.py:1308: UndefinedMetricWarning: Precision and F-score are ill-defined and being set to 0.0 in labels with no predicted samples. Use `zero_division` parameter to control this behavior.\n",
      "  _warn_prf(average, modifier, msg_start, len(result))\n",
      "/opt/conda/lib/python3.9/site-packages/sklearn/metrics/_classification.py:1308: UndefinedMetricWarning: Precision and F-score are ill-defined and being set to 0.0 in labels with no predicted samples. Use `zero_division` parameter to control this behavior.\n",
      "  _warn_prf(average, modifier, msg_start, len(result))\n"
     ]
    }
   ],
   "source": [
    "show_report(y_15k, pred_15k)"
   ]
  },
  {
   "cell_type": "markdown",
   "id": "89d66f67",
   "metadata": {},
   "source": [
    "## 5.4 단어수 20000"
   ]
  },
  {
   "cell_type": "code",
   "execution_count": 38,
   "id": "fabb603c",
   "metadata": {},
   "outputs": [
    {
     "name": "stdout",
     "output_type": "stream",
     "text": [
      "Model: \"sequential_12\"\n",
      "_________________________________________________________________\n",
      "Layer (type)                 Output Shape              Param #   \n",
      "=================================================================\n",
      "dense_43 (Dense)             (None, 128)               2365440   \n",
      "_________________________________________________________________\n",
      "dense_44 (Dense)             (None, 128)               16512     \n",
      "_________________________________________________________________\n",
      "dense_45 (Dense)             (None, 64)                8256      \n",
      "_________________________________________________________________\n",
      "dense_46 (Dense)             (None, 46)                2990      \n",
      "=================================================================\n",
      "Total params: 2,393,198\n",
      "Trainable params: 2,393,198\n",
      "Non-trainable params: 0\n",
      "_________________________________________________________________\n",
      "Epoch 1/50\n",
      "113/113 [==============================] - 1s 9ms/step - loss: 2.1907 - accuracy: 0.4932 - val_loss: 1.4265 - val_accuracy: 0.6383\n",
      "Epoch 2/50\n",
      "113/113 [==============================] - 1s 5ms/step - loss: 1.1195 - accuracy: 0.7276 - val_loss: 1.0695 - val_accuracy: 0.7568\n",
      "Epoch 3/50\n",
      "113/113 [==============================] - 1s 5ms/step - loss: 0.6457 - accuracy: 0.8489 - val_loss: 1.0184 - val_accuracy: 0.7769\n",
      "Epoch 4/50\n",
      "113/113 [==============================] - 1s 5ms/step - loss: 0.3757 - accuracy: 0.9083 - val_loss: 0.9977 - val_accuracy: 0.7908\n",
      "Epoch 5/50\n",
      "113/113 [==============================] - 1s 5ms/step - loss: 0.2458 - accuracy: 0.9425 - val_loss: 1.0431 - val_accuracy: 0.7885\n",
      "Epoch 6/50\n",
      "113/113 [==============================] - 1s 5ms/step - loss: 0.1853 - accuracy: 0.9556 - val_loss: 1.0434 - val_accuracy: 0.7913\n",
      "Epoch 7/50\n",
      "113/113 [==============================] - 1s 5ms/step - loss: 0.1448 - accuracy: 0.9619 - val_loss: 1.0973 - val_accuracy: 0.7991\n",
      "Epoch 8/50\n",
      "113/113 [==============================] - 1s 5ms/step - loss: 0.1357 - accuracy: 0.9609 - val_loss: 1.0781 - val_accuracy: 0.7924\n",
      "Epoch 9/50\n",
      "113/113 [==============================] - 1s 5ms/step - loss: 0.1218 - accuracy: 0.9610 - val_loss: 1.2118 - val_accuracy: 0.7813\n",
      "Epoch 00009: early stopping\n"
     ]
    }
   ],
   "source": [
    "history_20k, y_20k, pred_20k = d_experiment(num_words=20000)"
   ]
  },
  {
   "cell_type": "code",
   "execution_count": 39,
   "id": "98838ee8",
   "metadata": {},
   "outputs": [
    {
     "data": {
      "image/png": "[encoded data removed]",
      "text/plain": [
       "<Figure size 432x288 with 1 Axes>"
      ]
     },
     "metadata": {
      "needs_background": "light"
     },
     "output_type": "display_data"
    },
    {
     "data": {
      "image/png": "[encoded data removed]",
      "text/plain": [
       "<Figure size 432x288 with 1 Axes>"
      ]
     },
     "metadata": {
      "needs_background": "light"
     },
     "output_type": "display_data"
    }
   ],
   "source": [
    "show_history('20k', history_20k)"
   ]
  },
  {
   "cell_type": "code",
   "execution_count": 40,
   "id": "42d3918e",
   "metadata": {},
   "outputs": [
    {
     "name": "stdout",
     "output_type": "stream",
     "text": [
      "              precision    recall  f1-score   support\n",
      "\n",
      "           0       0.89      0.67      0.76        12\n",
      "           1       0.71      0.77      0.74       105\n",
      "           2       0.50      0.60      0.55        20\n",
      "           3       0.83      0.96      0.89       813\n",
      "           4       0.80      0.85      0.83       474\n",
      "           5       0.00      0.00      0.00         5\n",
      "           6       0.83      0.71      0.77        14\n",
      "           7       1.00      0.33      0.50         3\n",
      "           8       0.63      0.58      0.60        38\n",
      "           9       0.95      0.80      0.87        25\n",
      "          10       0.96      0.77      0.85        30\n",
      "          11       0.79      0.60      0.68        83\n",
      "          12       0.80      0.31      0.44        13\n",
      "          13       0.65      0.54      0.59        37\n",
      "          14       0.25      0.50      0.33         2\n",
      "          15       0.67      0.22      0.33         9\n",
      "          16       0.62      0.77      0.69        99\n",
      "          17       0.20      0.08      0.12        12\n",
      "          18       0.79      0.55      0.65        20\n",
      "          19       0.70      0.71      0.70       133\n",
      "          20       0.73      0.31      0.44        70\n",
      "          21       0.50      0.70      0.58        27\n",
      "          22       0.00      0.00      0.00         7\n",
      "          23       0.71      0.42      0.53        12\n",
      "          24       0.50      0.53      0.51        19\n",
      "          25       0.79      0.48      0.60        31\n",
      "          26       1.00      0.62      0.77         8\n",
      "          27       1.00      0.25      0.40         4\n",
      "          28       1.00      0.20      0.33        10\n",
      "          29       0.11      0.25      0.15         4\n",
      "          30       0.40      0.33      0.36        12\n",
      "          31       0.71      0.38      0.50        13\n",
      "          32       1.00      0.60      0.75        10\n",
      "          33       0.80      0.80      0.80         5\n",
      "          34       1.00      0.29      0.44         7\n",
      "          35       1.00      0.17      0.29         6\n",
      "          36       0.75      0.27      0.40        11\n",
      "          37       0.00      0.00      0.00         2\n",
      "          38       0.50      0.33      0.40         3\n",
      "          39       0.00      0.00      0.00         5\n",
      "          40       1.00      0.20      0.33        10\n",
      "          41       0.50      0.12      0.20         8\n",
      "          42       1.00      0.33      0.50         3\n",
      "          43       0.80      0.67      0.73         6\n",
      "          44       1.00      0.80      0.89         5\n",
      "          45       1.00      1.00      1.00         1\n",
      "\n",
      "    accuracy                           0.77      2246\n",
      "   macro avg       0.68      0.46      0.52      2246\n",
      "weighted avg       0.77      0.77      0.76      2246\n",
      "\n"
     ]
    },
    {
     "name": "stderr",
     "output_type": "stream",
     "text": [
      "/opt/conda/lib/python3.9/site-packages/sklearn/metrics/_classification.py:1308: UndefinedMetricWarning: Precision and F-score are ill-defined and being set to 0.0 in labels with no predicted samples. Use `zero_division` parameter to control this behavior.\n",
      "  _warn_prf(average, modifier, msg_start, len(result))\n",
      "/opt/conda/lib/python3.9/site-packages/sklearn/metrics/_classification.py:1308: UndefinedMetricWarning: Precision and F-score are ill-defined and being set to 0.0 in labels with no predicted samples. Use `zero_division` parameter to control this behavior.\n",
      "  _warn_prf(average, modifier, msg_start, len(result))\n",
      "/opt/conda/lib/python3.9/site-packages/sklearn/metrics/_classification.py:1308: UndefinedMetricWarning: Precision and F-score are ill-defined and being set to 0.0 in labels with no predicted samples. Use `zero_division` parameter to control this behavior.\n",
      "  _warn_prf(average, modifier, msg_start, len(result))\n"
     ]
    }
   ],
   "source": [
    "show_report(y_20k, pred_20k)"
   ]
  }
 ],
 "metadata": {
  "kernelspec": {
   "display_name": "Python 3 (ipykernel)",
   "language": "python",
   "name": "python3"
  },
  "language_info": {
   "codemirror_mode": {
    "name": "ipython",
    "version": 3
   },
   "file_extension": ".py",
   "mimetype": "text/x-python",
   "name": "python",
   "nbconvert_exporter": "python",
   "pygments_lexer": "ipython3",
   "version": "3.9.7"
  }
 },
 "nbformat": 4,
 "nbformat_minor": 5
}
