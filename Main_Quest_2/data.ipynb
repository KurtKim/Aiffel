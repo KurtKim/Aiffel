{
 "cells": [
  {
   "cell_type": "code",
   "execution_count": 1,
   "id": "5c3220b8",
   "metadata": {},
   "outputs": [],
   "source": [
    "path_to_zip_file = './data/archive.zip'\n",
    "directory_to_extract_to = './data'\n",
    "\n",
    "import zipfile\n",
    "with zipfile.ZipFile(path_to_zip_file, 'r') as zip_ref:\n",
    "    zip_ref.extractall(directory_to_extract_to)"
   ]
  },
  {
   "cell_type": "code",
   "execution_count": 3,
   "id": "8a368ca6",
   "metadata": {},
   "outputs": [
    {
     "name": "stdout",
     "output_type": "stream",
     "text": [
      "train - nomarl: 1341, pneumonia: 3875 / total: 5216\n",
      "test - nomarl: 234, pneumonia: 390 / total: 624\n",
      "val - nomarl: 8, pneumonia: 8 / total: 16\n"
     ]
    }
   ],
   "source": [
    "import os\n",
    "\n",
    "for _type in ['train', 'test', 'val']:\n",
    "    n = len(os.listdir(f'./data/chest_xray/{_type}/NORMAL'))\n",
    "    p = len(os.listdir(f'./data/chest_xray/{_type}/PNEUMONIA'))\n",
    "    print(f'{_type} - nomarl: {n}, pneumonia: {p} / total: {n+p}')"
   ]
  }
 ],
 "metadata": {
  "kernelspec": {
   "display_name": "Python 3 (ipykernel)",
   "language": "python",
   "name": "python3"
  },
  "language_info": {
   "codemirror_mode": {
    "name": "ipython",
    "version": 3
   },
   "file_extension": ".py",
   "mimetype": "text/x-python",
   "name": "python",
   "nbconvert_exporter": "python",
   "pygments_lexer": "ipython3",
   "version": "3.9.7"
  }
 },
 "nbformat": 4,
 "nbformat_minor": 5
}
