{
 "cells": [
  {
   "cell_type": "markdown",
   "id": "538fe7b5",
   "metadata": {},
   "source": [
    "# 1. 데이터 가져오기\n",
    "\n",
    "* sklearn.datasets의 load_diabetes에서 데이터를 가져와주세요.\n",
    "* diabetes의 data를 df_X에, target을 df_y에 저장해주세요."
   ]
  },
  {
   "cell_type": "code",
   "execution_count": 1,
   "id": "ef2b2f18",
   "metadata": {},
   "outputs": [
    {
     "data": {
      "text/html": [
       "<div>\n",
       "<style scoped>\n",
       "    .dataframe tbody tr th:only-of-type {\n",
       "        vertical-align: middle;\n",
       "    }\n",
       "\n",
       "    .dataframe tbody tr th {\n",
       "        vertical-align: top;\n",
       "    }\n",
       "\n",
       "    .dataframe thead th {\n",
       "        text-align: right;\n",
       "    }\n",
       "</style>\n",
       "<table border=\"1\" class=\"dataframe\">\n",
       "  <thead>\n",
       "    <tr style=\"text-align: right;\">\n",
       "      <th></th>\n",
       "      <th>age</th>\n",
       "      <th>sex</th>\n",
       "      <th>bmi</th>\n",
       "      <th>bp</th>\n",
       "      <th>s1</th>\n",
       "      <th>s2</th>\n",
       "      <th>s3</th>\n",
       "      <th>s4</th>\n",
       "      <th>s5</th>\n",
       "      <th>s6</th>\n",
       "    </tr>\n",
       "  </thead>\n",
       "  <tbody>\n",
       "    <tr>\n",
       "      <th>0</th>\n",
       "      <td>0.038076</td>\n",
       "      <td>0.050680</td>\n",
       "      <td>0.061696</td>\n",
       "      <td>0.021872</td>\n",
       "      <td>-0.044223</td>\n",
       "      <td>-0.034821</td>\n",
       "      <td>-0.043401</td>\n",
       "      <td>-0.002592</td>\n",
       "      <td>0.019908</td>\n",
       "      <td>-0.017646</td>\n",
       "    </tr>\n",
       "    <tr>\n",
       "      <th>1</th>\n",
       "      <td>-0.001882</td>\n",
       "      <td>-0.044642</td>\n",
       "      <td>-0.051474</td>\n",
       "      <td>-0.026328</td>\n",
       "      <td>-0.008449</td>\n",
       "      <td>-0.019163</td>\n",
       "      <td>0.074412</td>\n",
       "      <td>-0.039493</td>\n",
       "      <td>-0.068330</td>\n",
       "      <td>-0.092204</td>\n",
       "    </tr>\n",
       "    <tr>\n",
       "      <th>2</th>\n",
       "      <td>0.085299</td>\n",
       "      <td>0.050680</td>\n",
       "      <td>0.044451</td>\n",
       "      <td>-0.005671</td>\n",
       "      <td>-0.045599</td>\n",
       "      <td>-0.034194</td>\n",
       "      <td>-0.032356</td>\n",
       "      <td>-0.002592</td>\n",
       "      <td>0.002864</td>\n",
       "      <td>-0.025930</td>\n",
       "    </tr>\n",
       "    <tr>\n",
       "      <th>3</th>\n",
       "      <td>-0.089063</td>\n",
       "      <td>-0.044642</td>\n",
       "      <td>-0.011595</td>\n",
       "      <td>-0.036656</td>\n",
       "      <td>0.012191</td>\n",
       "      <td>0.024991</td>\n",
       "      <td>-0.036038</td>\n",
       "      <td>0.034309</td>\n",
       "      <td>0.022692</td>\n",
       "      <td>-0.009362</td>\n",
       "    </tr>\n",
       "    <tr>\n",
       "      <th>4</th>\n",
       "      <td>0.005383</td>\n",
       "      <td>-0.044642</td>\n",
       "      <td>-0.036385</td>\n",
       "      <td>0.021872</td>\n",
       "      <td>0.003935</td>\n",
       "      <td>0.015596</td>\n",
       "      <td>0.008142</td>\n",
       "      <td>-0.002592</td>\n",
       "      <td>-0.031991</td>\n",
       "      <td>-0.046641</td>\n",
       "    </tr>\n",
       "  </tbody>\n",
       "</table>\n",
       "</div>"
      ],
      "text/plain": [
       "        age       sex       bmi        bp        s1        s2        s3  \\\n",
       "0  0.038076  0.050680  0.061696  0.021872 -0.044223 -0.034821 -0.043401   \n",
       "1 -0.001882 -0.044642 -0.051474 -0.026328 -0.008449 -0.019163  0.074412   \n",
       "2  0.085299  0.050680  0.044451 -0.005671 -0.045599 -0.034194 -0.032356   \n",
       "3 -0.089063 -0.044642 -0.011595 -0.036656  0.012191  0.024991 -0.036038   \n",
       "4  0.005383 -0.044642 -0.036385  0.021872  0.003935  0.015596  0.008142   \n",
       "\n",
       "         s4        s5        s6  \n",
       "0 -0.002592  0.019908 -0.017646  \n",
       "1 -0.039493 -0.068330 -0.092204  \n",
       "2 -0.002592  0.002864 -0.025930  \n",
       "3  0.034309  0.022692 -0.009362  \n",
       "4 -0.002592 -0.031991 -0.046641  "
      ]
     },
     "execution_count": 1,
     "metadata": {},
     "output_type": "execute_result"
    }
   ],
   "source": [
    "import pandas as pd\n",
    "from sklearn.datasets import load_diabetes\n",
    "\n",
    "diabetes = load_diabetes()\n",
    "df_x = pd.DataFrame(diabetes.data, columns=diabetes.feature_names)\n",
    "df_y = diabetes.target\n",
    "df_x.head()"
   ]
  },
  {
   "cell_type": "markdown",
   "id": "6af4d8fb",
   "metadata": {},
   "source": [
    "# 2. 모델에 입력할 데이터 X 준비하기\n",
    "\n",
    "* `df_X`에 있는 값들을 numpy array로 변환해서 저장해주세요."
   ]
  },
  {
   "cell_type": "code",
   "execution_count": 2,
   "id": "c319e791",
   "metadata": {},
   "outputs": [
    {
     "data": {
      "text/plain": [
       "(442, 10)"
      ]
     },
     "execution_count": 2,
     "metadata": {},
     "output_type": "execute_result"
    }
   ],
   "source": [
    "import numpy as np\n",
    "\n",
    "df_x = np.array(df_x)\n",
    "df_x.shape"
   ]
  },
  {
   "cell_type": "markdown",
   "id": "770285e1",
   "metadata": {},
   "source": [
    "# 3. 모델에 예측할 데이터 y 준비하기\n",
    "\n",
    "* `df_y`에 있는 값들을 numpy array로 변환해서 저장해주세요."
   ]
  },
  {
   "cell_type": "code",
   "execution_count": 3,
   "id": "552526b9",
   "metadata": {},
   "outputs": [
    {
     "data": {
      "text/plain": [
       "(442,)"
      ]
     },
     "execution_count": 3,
     "metadata": {},
     "output_type": "execute_result"
    }
   ],
   "source": [
    "df_y = np.array(df_y)\n",
    "df_y.shape"
   ]
  },
  {
   "cell_type": "markdown",
   "id": "8b39f146",
   "metadata": {},
   "source": [
    "# 4. train 데이터와 test 데이터로 분리하기\n",
    "\n",
    "* `X`와 `y` 데이터를 각각 train 데이터와 test 데이터로 분리해주세요."
   ]
  },
  {
   "cell_type": "code",
   "execution_count": 4,
   "id": "eabef9f6",
   "metadata": {},
   "outputs": [
    {
     "name": "stdout",
     "output_type": "stream",
     "text": [
      "(353, 10) (353,)\n",
      "(89, 10) (89,)\n"
     ]
    }
   ],
   "source": [
    "from sklearn.model_selection import train_test_split\n",
    "\n",
    "X_train, X_test, y_train, y_test = train_test_split(df_x, df_y, test_size=0.2, random_state=42)\n",
    "\n",
    "print(X_train.shape, y_train.shape)\n",
    "print(X_test.shape, y_test.shape)"
   ]
  },
  {
   "cell_type": "markdown",
   "id": "bd0cb498",
   "metadata": {},
   "source": [
    "# 5. 모델 준비하기\n",
    "\n",
    "* 입력 데이터 개수에 맞는 가중치 `W`와 `b`를 준비해주세요.\n",
    "* 모델 함수를 구현해주세요."
   ]
  },
  {
   "cell_type": "code",
   "execution_count": 20,
   "id": "6a7585e6",
   "metadata": {},
   "outputs": [
    {
     "data": {
      "text/plain": [
       "array([0.28265854, 0.73105244, 0.00219743, 0.56216329, 0.778585  ,\n",
       "       0.20008916, 0.40414281, 0.66662695, 0.70048218, 0.62742823])"
      ]
     },
     "execution_count": 20,
     "metadata": {},
     "output_type": "execute_result"
    }
   ],
   "source": [
    "W = np.random.rand(10) \n",
    "W"
   ]
  },
  {
   "cell_type": "code",
   "execution_count": 21,
   "id": "f84bdb2c",
   "metadata": {},
   "outputs": [
    {
     "data": {
      "text/plain": [
       "0.6021631669712119"
      ]
     },
     "execution_count": 21,
     "metadata": {},
     "output_type": "execute_result"
    }
   ],
   "source": [
    "b = np.random.rand()\n",
    "b"
   ]
  },
  {
   "cell_type": "code",
   "execution_count": 7,
   "id": "53b9a0a2",
   "metadata": {},
   "outputs": [],
   "source": [
    "def model(x, W, b):\n",
    "    predictions = 0\n",
    "    for i in range(10):\n",
    "        predictions += x[:, i] * W[i]\n",
    "    predictions += b\n",
    "    return predictions"
   ]
  },
  {
   "cell_type": "markdown",
   "id": "8a559d56",
   "metadata": {},
   "source": [
    "# 6. 손실함수 loss 정의하기\n",
    "\n",
    "* 손실함수를 MSE 함수로 정의해주세요."
   ]
  },
  {
   "cell_type": "code",
   "execution_count": 8,
   "id": "22844df1",
   "metadata": {},
   "outputs": [],
   "source": [
    "def MSE(a, b):\n",
    "    return ((a - b) ** 2).mean() "
   ]
  },
  {
   "cell_type": "code",
   "execution_count": 9,
   "id": "3d1a0f0f",
   "metadata": {},
   "outputs": [],
   "source": [
    "def loss(x, W, b, y):\n",
    "    predictions = model(x, W, b)\n",
    "    L = MSE(predictions, y)\n",
    "    return L"
   ]
  },
  {
   "cell_type": "markdown",
   "id": "0a710e14",
   "metadata": {},
   "source": [
    "# 7. 기울기를 구하는 gradient 함수 구현하기\n",
    "\n",
    "* 기울기를 계산하는 `gradient` 함수를 구현해주세요."
   ]
  },
  {
   "cell_type": "code",
   "execution_count": 10,
   "id": "3396be8b",
   "metadata": {},
   "outputs": [],
   "source": [
    "def gradient(x, W, b, y):\n",
    "    \n",
    "    y_pred = model(x, W, b)\n",
    "    \n",
    "    dw = 1/len(W) * 2 * x.T.dot(y_pred - y)\n",
    "    db = 2 * (y_pred - y).mean()\n",
    "    \n",
    "    return dw, db"
   ]
  },
  {
   "cell_type": "code",
   "execution_count": 11,
   "id": "d36902e7",
   "metadata": {},
   "outputs": [
    {
     "name": "stdout",
     "output_type": "stream",
     "text": [
      "dw : [ -60.62975245  -13.78703085 -189.69602931 -142.72399118  -68.34663282\n",
      "  -56.09747871  127.76854817 -139.15089456 -182.95760661 -123.61876636]\n",
      "db: -303.3620026316274\n"
     ]
    }
   ],
   "source": [
    "dw, db = gradient(df_x, W, b, df_y)\n",
    "print(f'dw : {dw}')\n",
    "print(f'db: {db}')"
   ]
  },
  {
   "cell_type": "markdown",
   "id": "2cbb97a4",
   "metadata": {},
   "source": [
    "# 8. 하이퍼 파라미터인 학습률 설정하기\n",
    "\n",
    "* 학습률, learning rate 를 설정해주세요\n",
    "* 만약 학습이 잘 되지 않는다면 learning rate 값을 한번 여러 가지로 설정하며 실험해 보세요."
   ]
  },
  {
   "cell_type": "code",
   "execution_count": 22,
   "id": "b1904abf",
   "metadata": {},
   "outputs": [],
   "source": [
    "LEARNING_RATE = 0.001"
   ]
  },
  {
   "cell_type": "markdown",
   "id": "f7504471",
   "metadata": {},
   "source": [
    "# 9. 모델 학습하기\n",
    "\n",
    "* 정의된 손실함수와 기울기 함수로 모델을 학습해주세요.\n",
    "* loss값이 충분히 떨어질 때까지 학습을 진행해주세요.\n",
    "* 입력하는 데이터인 X에 들어가는 특성 컬럼들을 몇 개 빼도 괜찮습니다. 다양한 데이터로 실험해 보세요."
   ]
  },
  {
   "cell_type": "code",
   "execution_count": 23,
   "id": "1a11d097",
   "metadata": {},
   "outputs": [
    {
     "name": "stdout",
     "output_type": "stream",
     "text": [
      "Iteration 1000 : Loss 4562.4079\n",
      "Iteration 2000 : Loss 3591.0691\n",
      "Iteration 3000 : Loss 3324.4396\n",
      "Iteration 4000 : Loss 3182.6284\n",
      "Iteration 5000 : Loss 3094.7430\n",
      "Iteration 6000 : Loss 3036.1907\n",
      "Iteration 7000 : Loss 2995.7821\n",
      "Iteration 8000 : Loss 2967.4017\n",
      "Iteration 9000 : Loss 2947.2698\n",
      "Iteration 10000 : Loss 2932.8900\n",
      "Iteration 11000 : Loss 2922.5597\n",
      "Iteration 12000 : Loss 2915.0991\n",
      "Iteration 13000 : Loss 2909.6834\n",
      "Iteration 14000 : Loss 2905.7322\n",
      "Iteration 15000 : Loss 2902.8349\n",
      "Iteration 16000 : Loss 2900.7000\n",
      "Iteration 17000 : Loss 2899.1190\n",
      "Iteration 18000 : Loss 2897.9424\n",
      "Iteration 19000 : Loss 2897.0624\n",
      "Iteration 20000 : Loss 2896.4009\n",
      "Iteration 21000 : Loss 2895.9008\n",
      "Iteration 22000 : Loss 2895.5204\n",
      "Iteration 23000 : Loss 2895.2292\n",
      "Iteration 24000 : Loss 2895.0043\n",
      "Iteration 25000 : Loss 2894.8288\n",
      "Iteration 26000 : Loss 2894.6903\n",
      "Iteration 27000 : Loss 2894.5793\n",
      "Iteration 28000 : Loss 2894.4885\n",
      "Iteration 29000 : Loss 2894.4128\n",
      "Iteration 30000 : Loss 2894.3481\n"
     ]
    }
   ],
   "source": [
    "losses = []\n",
    "\n",
    "for i in range(1, 30001):\n",
    "    dw, db = gradient(X_train, W, b, y_train)   \n",
    "    W -= LEARNING_RATE * dw         \n",
    "    b -= LEARNING_RATE * db         \n",
    "    L = loss(df_x, W, b, df_y)            \n",
    "    losses.append(L)                \n",
    "    if i % 1000 == 0:\n",
    "        print('Iteration %d : Loss %0.4f' % (i, L))"
   ]
  },
  {
   "cell_type": "code",
   "execution_count": 24,
   "id": "352e255b",
   "metadata": {},
   "outputs": [
    {
     "data": {
      "image/png": "[encoded data removed]",
      "text/plain": [
       "<Figure size 432x288 with 1 Axes>"
      ]
     },
     "metadata": {
      "needs_background": "light"
     },
     "output_type": "display_data"
    }
   ],
   "source": [
    "import matplotlib.pyplot as plt\n",
    "\n",
    "plt.plot(losses)\n",
    "plt.show()"
   ]
  },
  {
   "cell_type": "markdown",
   "id": "0910499d",
   "metadata": {},
   "source": [
    "# 10. test 데이터에 대한 성능 확인하기\n",
    "\n",
    "* test 데이터에 대한 성능을 확인해주세요."
   ]
  },
  {
   "cell_type": "code",
   "execution_count": 25,
   "id": "05d0b136",
   "metadata": {},
   "outputs": [
    {
     "data": {
      "text/plain": [
       "2881.0345539777"
      ]
     },
     "execution_count": 25,
     "metadata": {},
     "output_type": "execute_result"
    }
   ],
   "source": [
    "prediction = model(X_test, W, b)\n",
    "mse = loss(X_test, W, b, y_test)\n",
    "mse"
   ]
  },
  {
   "cell_type": "markdown",
   "id": "0e839a8c",
   "metadata": {},
   "source": [
    "# 11. 정답 데이터와 예측한 데이터 시각화하기\n",
    "\n",
    "* x축에는 X 데이터의 첫 번째 컬럼을, y축에는 정답인 target 데이터를 넣어서 모델이 예측한 데이터를 시각화해 주세요."
   ]
  },
  {
   "cell_type": "code",
   "execution_count": 26,
   "id": "0c04695e",
   "metadata": {},
   "outputs": [
    {
     "data": {
      "image/png": "[encoded data removed]",
      "text/plain": [
       "<Figure size 432x288 with 1 Axes>"
      ]
     },
     "metadata": {
      "needs_background": "light"
     },
     "output_type": "display_data"
    }
   ],
   "source": [
    "plt.scatter(X_test[:, 0], y_test)\n",
    "plt.scatter(X_test[:, 0], prediction)\n",
    "plt.show()"
   ]
  }
 ],
 "metadata": {
  "kernelspec": {
   "display_name": "Python 3 (ipykernel)",
   "language": "python",
   "name": "python3"
  },
  "language_info": {
   "codemirror_mode": {
    "name": "ipython",
    "version": 3
   },
   "file_extension": ".py",
   "mimetype": "text/x-python",
   "name": "python",
   "nbconvert_exporter": "python",
   "pygments_lexer": "ipython3",
   "version": "3.9.7"
  }
 },
 "nbformat": 4,
 "nbformat_minor": 5
}
