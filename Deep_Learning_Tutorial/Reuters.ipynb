{
 "cells": [
  {
   "cell_type": "markdown",
   "id": "dcaa7004",
   "metadata": {},
   "source": [
    "# 데이터 로드 및 전처리"
   ]
  },
  {
   "cell_type": "code",
   "execution_count": 1,
   "id": "ab608b9d",
   "metadata": {},
   "outputs": [],
   "source": [
    "import numpy as np\n",
    "import matplotlib.pyplot as plt\n",
    "from sklearn.model_selection import train_test_split\n",
    "\n",
    "from tensorflow.keras import models, layers\n",
    "from tensorflow.keras import callbacks\n",
    "from tensorflow.keras import utils\n",
    "from keras.datasets import reuters"
   ]
  },
  {
   "cell_type": "code",
   "execution_count": 2,
   "id": "d980643d",
   "metadata": {},
   "outputs": [
    {
     "name": "stdout",
     "output_type": "stream",
     "text": [
      "6736\n",
      "2246\n",
      "2246\n",
      "46\n"
     ]
    }
   ],
   "source": [
    "(train_data, train_labels), (test_data, test_labels) = reuters.load_data(num_words=10000)\n",
    "\n",
    "train_data, val_data, train_labels, val_labels = train_test_split(\n",
    "    train_data, train_labels, test_size = 0.25)\n",
    "\n",
    "\n",
    "# 훈련, 검증, 테스트 데이터와 레이블 종류가 몇 개인지 출력합니다.\n",
    "print(len(train_data))\n",
    "print(len(val_data))\n",
    "print(len(test_data))\n",
    "print(len(set(train_labels)))"
   ]
  },
  {
   "cell_type": "code",
   "execution_count": 3,
   "id": "c53cad6e",
   "metadata": {},
   "outputs": [],
   "source": [
    "def one_hot_encoding(data, dim=10000):\n",
    "    results = np.zeros((len(data), dim))\n",
    "    for i, label in enumerate(data):\n",
    "        results[i, label] = 1\n",
    "    return results\n",
    "\n",
    "x_train = one_hot_encoding(train_data)\n",
    "x_val = one_hot_encoding(val_data)\n",
    "x_test = one_hot_encoding(test_data)\n",
    "\n",
    "from keras.utils.np_utils import to_categorical\n",
    "# 레이블 데이터들은 범주형 형태로 to_categorical() 함수를 사용해 변환합니다.\n",
    "y_train = to_categorical(train_labels)\n",
    "y_val = to_categorical(val_labels)\n",
    "y_test = to_categorical(test_labels)"
   ]
  },
  {
   "cell_type": "markdown",
   "id": "91c264f4",
   "metadata": {},
   "source": [
    "# 모델 구성 및 컴파일"
   ]
  },
  {
   "cell_type": "code",
   "execution_count": 4,
   "id": "04aeb6e1",
   "metadata": {},
   "outputs": [
    {
     "name": "stdout",
     "output_type": "stream",
     "text": [
      "Model: \"sequential\"\n",
      "_________________________________________________________________\n",
      "Layer (type)                 Output Shape              Param #   \n",
      "=================================================================\n",
      "dense (Dense)                (None, 64)                640064    \n",
      "_________________________________________________________________\n",
      "batch_normalization (BatchNo (None, 64)                256       \n",
      "_________________________________________________________________\n",
      "dropout (Dropout)            (None, 64)                0         \n",
      "_________________________________________________________________\n",
      "dense_1 (Dense)              (None, 64)                4160      \n",
      "_________________________________________________________________\n",
      "batch_normalization_1 (Batch (None, 64)                256       \n",
      "_________________________________________________________________\n",
      "dropout_1 (Dropout)          (None, 64)                0         \n",
      "_________________________________________________________________\n",
      "dense_2 (Dense)              (None, 46)                2990      \n",
      "=================================================================\n",
      "Total params: 647,726\n",
      "Trainable params: 647,470\n",
      "Non-trainable params: 256\n",
      "_________________________________________________________________\n"
     ]
    }
   ],
   "source": [
    "model = models.Sequential()\n",
    "model.add(layers.Dense(64, activation='relu', input_shape=(10000,)))\n",
    "model.add(layers.BatchNormalization())\n",
    "model.add(layers.Dropout(0.2))\n",
    "model.add(layers.Dense(64, activation='relu'))\n",
    "model.add(layers.BatchNormalization())\n",
    "model.add(layers.Dropout(0.2))\n",
    "model.add(layers.Dense(46, activation='softmax'))\n",
    "\n",
    "model.compile(optimizer='adam',\n",
    "              loss='categorical_crossentropy',\n",
    "              metrics=['accuracy'])\n",
    "\n",
    "model.summary()"
   ]
  },
  {
   "cell_type": "markdown",
   "id": "1761994d",
   "metadata": {},
   "source": [
    "# 모델 학습"
   ]
  },
  {
   "cell_type": "code",
   "execution_count": 5,
   "id": "a02b49da",
   "metadata": {},
   "outputs": [
    {
     "name": "stdout",
     "output_type": "stream",
     "text": [
      "Epoch 1/60\n",
      "211/211 [==============================] - 3s 7ms/step - loss: 1.8118 - accuracy: 0.6311 - val_loss: 1.5006 - val_accuracy: 0.7289\n",
      "Epoch 2/60\n",
      "211/211 [==============================] - 1s 5ms/step - loss: 0.8371 - accuracy: 0.8171 - val_loss: 0.9994 - val_accuracy: 0.7858\n",
      "Epoch 3/60\n",
      "211/211 [==============================] - 1s 5ms/step - loss: 0.5415 - accuracy: 0.8792 - val_loss: 0.9824 - val_accuracy: 0.8099\n",
      "Epoch 4/60\n",
      "211/211 [==============================] - 1s 5ms/step - loss: 0.3884 - accuracy: 0.9139 - val_loss: 1.0062 - val_accuracy: 0.8050\n",
      "Epoch 5/60\n",
      "211/211 [==============================] - 1s 5ms/step - loss: 0.2968 - accuracy: 0.9323 - val_loss: 1.0199 - val_accuracy: 0.8085\n",
      "Epoch 6/60\n",
      "211/211 [==============================] - 1s 5ms/step - loss: 0.2619 - accuracy: 0.9363 - val_loss: 1.0333 - val_accuracy: 0.8014\n",
      "Epoch 7/60\n",
      "211/211 [==============================] - 1s 5ms/step - loss: 0.2226 - accuracy: 0.9476 - val_loss: 1.0709 - val_accuracy: 0.8081\n",
      "Epoch 8/60\n",
      "211/211 [==============================] - 1s 5ms/step - loss: 0.2100 - accuracy: 0.9500 - val_loss: 1.0586 - val_accuracy: 0.8108\n",
      "Epoch 9/60\n",
      "211/211 [==============================] - 1s 5ms/step - loss: 0.1932 - accuracy: 0.9498 - val_loss: 1.0959 - val_accuracy: 0.8059\n",
      "Epoch 10/60\n",
      "211/211 [==============================] - 1s 5ms/step - loss: 0.1762 - accuracy: 0.9555 - val_loss: 1.1170 - val_accuracy: 0.8068\n",
      "Epoch 11/60\n",
      "211/211 [==============================] - 1s 5ms/step - loss: 0.1796 - accuracy: 0.9550 - val_loss: 1.0902 - val_accuracy: 0.8117\n",
      "Epoch 12/60\n",
      "211/211 [==============================] - 1s 5ms/step - loss: 0.1651 - accuracy: 0.9552 - val_loss: 1.1269 - val_accuracy: 0.7979\n",
      "Epoch 13/60\n",
      "211/211 [==============================] - 1s 5ms/step - loss: 0.1575 - accuracy: 0.9578 - val_loss: 1.1148 - val_accuracy: 0.8041\n"
     ]
    }
   ],
   "source": [
    "check_point_cb = callbacks.ModelCheckpoint('reuters_model.h5', \n",
    "                                           save_best_only=True)\n",
    "early_stopping_cb = callbacks.EarlyStopping(patience=10, \n",
    "                                            monitor='val_loss',\n",
    "                                            restore_best_weights=True)\n",
    "history = model.fit(x_train, y_train, epochs=60,\n",
    "                    validation_data=(x_val, y_val),\n",
    "                    callbacks=[check_point_cb, early_stopping_cb])"
   ]
  },
  {
   "cell_type": "code",
   "execution_count": 6,
   "id": "cf7d2c5e",
   "metadata": {},
   "outputs": [
    {
     "data": {
      "image/png": "[encoded data removed]",
      "text/plain": [
       "<Figure size 864x360 with 2 Axes>"
      ]
     },
     "metadata": {},
     "output_type": "display_data"
    }
   ],
   "source": [
    "plt.style.use('seaborn-white')\n",
    "\n",
    "history_dict = history.history\n",
    "\n",
    "loss = history_dict['loss']\n",
    "val_loss = history_dict['val_loss']\n",
    "\n",
    "epochs = range(1, len(loss) + 1)\n",
    "fig = plt.figure(figsize=(12, 5))\n",
    "\n",
    "ax1 = fig.add_subplot(1, 2, 1)\n",
    "ax1.plot(epochs, loss, 'b-', label='train_loss')\n",
    "ax1.plot(epochs, val_loss, 'r-', label='val_loss')\n",
    "ax1.set_title('Train and Validation Loss')\n",
    "ax1.set_xlabel('Epochs')\n",
    "ax1.set_ylabel('Loss')\n",
    "ax1.grid()\n",
    "ax1.legend()\n",
    "\n",
    "accuracy = history_dict['accuracy']\n",
    "val_accuracy = history_dict['val_accuracy']\n",
    "\n",
    "ax2 = fig.add_subplot(1, 2, 2)\n",
    "ax2.plot(epochs, accuracy, 'b-', label='train_accuracy')\n",
    "ax2.plot(epochs, val_accuracy, 'r-', label='val_accuracy')\n",
    "ax2.set_title('Train and Validation Accuracy')\n",
    "ax2.set_xlabel('Epochs')\n",
    "ax2.set_ylabel('Accuracy')\n",
    "ax2.grid()\n",
    "ax2.legend()\n",
    "\n",
    "plt.show()"
   ]
  },
  {
   "cell_type": "markdown",
   "id": "907a4f5f",
   "metadata": {},
   "source": [
    "# 모델 평가 및 예측"
   ]
  },
  {
   "cell_type": "code",
   "execution_count": 7,
   "id": "3266ad59",
   "metadata": {},
   "outputs": [
    {
     "name": "stdout",
     "output_type": "stream",
     "text": [
      "71/71 [==============================] - 0s 2ms/step - loss: 1.0373 - accuracy: 0.7850\n"
     ]
    },
    {
     "data": {
      "text/plain": [
       "[1.0373274087905884, 0.7849510312080383]"
      ]
     },
     "execution_count": 7,
     "metadata": {},
     "output_type": "execute_result"
    }
   ],
   "source": [
    "model.evaluate(x_test, y_test)"
   ]
  }
 ],
 "metadata": {
  "kernelspec": {
   "display_name": "Python 3 (ipykernel)",
   "language": "python",
   "name": "python3"
  },
  "language_info": {
   "codemirror_mode": {
    "name": "ipython",
    "version": 3
   },
   "file_extension": ".py",
   "mimetype": "text/x-python",
   "name": "python",
   "nbconvert_exporter": "python",
   "pygments_lexer": "ipython3",
   "version": "3.9.7"
  }
 },
 "nbformat": 4,
 "nbformat_minor": 5
}
